{
  "nbformat": 4,
  "nbformat_minor": 0,
  "metadata": {
    "colab": {
      "name": "tutorial1 data - exercise",
      "provenance": [],
      "collapsed_sections": [],
      "toc_visible": true,
      "include_colab_link": true
    },
    "kernelspec": {
      "name": "python3",
      "display_name": "Python 3"
    },
    "accelerator": "GPU",
    "widgets": {
      "application/vnd.jupyter.widget-state+json": {
        "744bcff60f3e4904ab633ed1c188b852": {
          "model_module": "@jupyter-widgets/controls",
          "model_name": "HBoxModel",
          "state": {
            "_view_name": "HBoxView",
            "_dom_classes": [],
            "_model_name": "HBoxModel",
            "_view_module": "@jupyter-widgets/controls",
            "_model_module_version": "1.5.0",
            "_view_count": null,
            "_view_module_version": "1.5.0",
            "box_style": "",
            "layout": "IPY_MODEL_1c58caeeca35426294876b9095968de6",
            "_model_module": "@jupyter-widgets/controls",
            "children": [
              "IPY_MODEL_eefb46f0423d476aae2d49924bf71dad",
              "IPY_MODEL_1b50aad2b18f4d479bc7339d233f9d91"
            ]
          }
        },
        "1c58caeeca35426294876b9095968de6": {
          "model_module": "@jupyter-widgets/base",
          "model_name": "LayoutModel",
          "state": {
            "_view_name": "LayoutView",
            "grid_template_rows": null,
            "right": null,
            "justify_content": null,
            "_view_module": "@jupyter-widgets/base",
            "overflow": null,
            "_model_module_version": "1.2.0",
            "_view_count": null,
            "flex_flow": null,
            "width": null,
            "min_width": null,
            "border": null,
            "align_items": null,
            "bottom": null,
            "_model_module": "@jupyter-widgets/base",
            "top": null,
            "grid_column": null,
            "overflow_y": null,
            "overflow_x": null,
            "grid_auto_flow": null,
            "grid_area": null,
            "grid_template_columns": null,
            "flex": null,
            "_model_name": "LayoutModel",
            "justify_items": null,
            "grid_row": null,
            "max_height": null,
            "align_content": null,
            "visibility": null,
            "align_self": null,
            "height": null,
            "min_height": null,
            "padding": null,
            "grid_auto_rows": null,
            "grid_gap": null,
            "max_width": null,
            "order": null,
            "_view_module_version": "1.2.0",
            "grid_template_areas": null,
            "object_position": null,
            "object_fit": null,
            "grid_auto_columns": null,
            "margin": null,
            "display": null,
            "left": null
          }
        },
        "eefb46f0423d476aae2d49924bf71dad": {
          "model_module": "@jupyter-widgets/controls",
          "model_name": "IntProgressModel",
          "state": {
            "_view_name": "ProgressView",
            "style": "IPY_MODEL_a3ebba61ae3843ba876a66a3970d3105",
            "_dom_classes": [],
            "description": "",
            "_model_name": "IntProgressModel",
            "bar_style": "success",
            "max": 1,
            "_view_module": "@jupyter-widgets/controls",
            "_model_module_version": "1.5.0",
            "value": 1,
            "_view_count": null,
            "_view_module_version": "1.5.0",
            "orientation": "horizontal",
            "min": 0,
            "description_tooltip": null,
            "_model_module": "@jupyter-widgets/controls",
            "layout": "IPY_MODEL_e71626cf561b49338e8b48859c800a95"
          }
        },
        "1b50aad2b18f4d479bc7339d233f9d91": {
          "model_module": "@jupyter-widgets/controls",
          "model_name": "HTMLModel",
          "state": {
            "_view_name": "HTMLView",
            "style": "IPY_MODEL_b5e63baa379a469395c5e6ad3f3d58a4",
            "_dom_classes": [],
            "description": "",
            "_model_name": "HTMLModel",
            "placeholder": "​",
            "_view_module": "@jupyter-widgets/controls",
            "_model_module_version": "1.5.0",
            "value": " 170500096/? [00:05&lt;00:00, 28613840.52it/s]",
            "_view_count": null,
            "_view_module_version": "1.5.0",
            "description_tooltip": null,
            "_model_module": "@jupyter-widgets/controls",
            "layout": "IPY_MODEL_b05a96d81de840dfaeb7158db2ef4639"
          }
        },
        "a3ebba61ae3843ba876a66a3970d3105": {
          "model_module": "@jupyter-widgets/controls",
          "model_name": "ProgressStyleModel",
          "state": {
            "_view_name": "StyleView",
            "_model_name": "ProgressStyleModel",
            "description_width": "initial",
            "_view_module": "@jupyter-widgets/base",
            "_model_module_version": "1.5.0",
            "_view_count": null,
            "_view_module_version": "1.2.0",
            "bar_color": null,
            "_model_module": "@jupyter-widgets/controls"
          }
        },
        "e71626cf561b49338e8b48859c800a95": {
          "model_module": "@jupyter-widgets/base",
          "model_name": "LayoutModel",
          "state": {
            "_view_name": "LayoutView",
            "grid_template_rows": null,
            "right": null,
            "justify_content": null,
            "_view_module": "@jupyter-widgets/base",
            "overflow": null,
            "_model_module_version": "1.2.0",
            "_view_count": null,
            "flex_flow": null,
            "width": null,
            "min_width": null,
            "border": null,
            "align_items": null,
            "bottom": null,
            "_model_module": "@jupyter-widgets/base",
            "top": null,
            "grid_column": null,
            "overflow_y": null,
            "overflow_x": null,
            "grid_auto_flow": null,
            "grid_area": null,
            "grid_template_columns": null,
            "flex": null,
            "_model_name": "LayoutModel",
            "justify_items": null,
            "grid_row": null,
            "max_height": null,
            "align_content": null,
            "visibility": null,
            "align_self": null,
            "height": null,
            "min_height": null,
            "padding": null,
            "grid_auto_rows": null,
            "grid_gap": null,
            "max_width": null,
            "order": null,
            "_view_module_version": "1.2.0",
            "grid_template_areas": null,
            "object_position": null,
            "object_fit": null,
            "grid_auto_columns": null,
            "margin": null,
            "display": null,
            "left": null
          }
        },
        "b5e63baa379a469395c5e6ad3f3d58a4": {
          "model_module": "@jupyter-widgets/controls",
          "model_name": "DescriptionStyleModel",
          "state": {
            "_view_name": "StyleView",
            "_model_name": "DescriptionStyleModel",
            "description_width": "",
            "_view_module": "@jupyter-widgets/base",
            "_model_module_version": "1.5.0",
            "_view_count": null,
            "_view_module_version": "1.2.0",
            "_model_module": "@jupyter-widgets/controls"
          }
        },
        "b05a96d81de840dfaeb7158db2ef4639": {
          "model_module": "@jupyter-widgets/base",
          "model_name": "LayoutModel",
          "state": {
            "_view_name": "LayoutView",
            "grid_template_rows": null,
            "right": null,
            "justify_content": null,
            "_view_module": "@jupyter-widgets/base",
            "overflow": null,
            "_model_module_version": "1.2.0",
            "_view_count": null,
            "flex_flow": null,
            "width": null,
            "min_width": null,
            "border": null,
            "align_items": null,
            "bottom": null,
            "_model_module": "@jupyter-widgets/base",
            "top": null,
            "grid_column": null,
            "overflow_y": null,
            "overflow_x": null,
            "grid_auto_flow": null,
            "grid_area": null,
            "grid_template_columns": null,
            "flex": null,
            "_model_name": "LayoutModel",
            "justify_items": null,
            "grid_row": null,
            "max_height": null,
            "align_content": null,
            "visibility": null,
            "align_self": null,
            "height": null,
            "min_height": null,
            "padding": null,
            "grid_auto_rows": null,
            "grid_gap": null,
            "max_width": null,
            "order": null,
            "_view_module_version": "1.2.0",
            "grid_template_areas": null,
            "object_position": null,
            "object_fit": null,
            "grid_auto_columns": null,
            "margin": null,
            "display": null,
            "left": null
          }
        }
      }
    }
  },
  "cells": [
    {
      "cell_type": "markdown",
      "metadata": {
        "id": "view-in-github",
        "colab_type": "text"
      },
      "source": [
        "<a href=\"https://colab.research.google.com/github/gkreplak/IVADO_Mila_Mooc/blob/master/tutorial1_data_exercise.ipynb\" target=\"_parent\"><img src=\"https://colab.research.google.com/assets/colab-badge.svg\" alt=\"Open In Colab\"/></a>"
      ]
    },
    {
      "cell_type": "markdown",
      "metadata": {
        "id": "wCQs5y60YyRv",
        "colab_type": "text"
      },
      "source": [
        "### GK\n",
        "\n",
        "# IVADO/Mila Deep Learning School\n",
        "# 4th edition (fall 2019)\n",
        "# Tutorial: Data\n",
        "\n",
        "## Authors: \n",
        "\n",
        "Arsène Fansi Tchango <arsene.fansi.tchango@mila.quebec>\n",
        "\n",
        "Francis Grégoire <francis.gregoire@mila.quebec>"
      ]
    },
    {
      "cell_type": "markdown",
      "metadata": {
        "id": "_fsFqgdJZ2Mh",
        "colab_type": "text"
      },
      "source": [
        "# Preface"
      ]
    },
    {
      "cell_type": "markdown",
      "metadata": {
        "id": "fGZRSQojc5zc",
        "colab_type": "text"
      },
      "source": [
        "The purpose of this tutorial is to emphasize the importance to understand the data on which a machine learning (ML) project is defined. This understanding will help you consider valuable operations to do before training your machine learning models. It serves as a gentle introduction to data exploration and covers basic things that every machine learning practitioner should know.\n",
        "\n",
        "**Note: the purpose of this tutorial is to be introductory. Thus, we propose simple solutions to our exercises. In practice, you should use more advanced techniques to train your models.**"
      ]
    },
    {
      "cell_type": "markdown",
      "metadata": {
        "id": "tn7fGc3PgWUy",
        "colab_type": "text"
      },
      "source": [
        "# Introduction"
      ]
    },
    {
      "cell_type": "markdown",
      "metadata": {
        "id": "U8dhsflQg4MB",
        "colab_type": "text"
      },
      "source": [
        "In this tutorial, we will use the [CIFAR-10](https://en.wikipedia.org/wiki/CIFAR-10) dataset. It is a collection of 32 x 32 color images in 10 different classes. The 10 different (indexed-)classes are the following:\n",
        "0. airplane;\n",
        "1. automobile;\n",
        "2. bird;\n",
        "3. cat;\n",
        "4. deer;\n",
        "5. dog;\n",
        "6. frog;\n",
        "7. horse;\n",
        "8. ship;\n",
        "9. truck.\n",
        "\n",
        "The task of interest in this tutorial is an image classification task. That is, we are interested in finding, for a given image, the class it belongs to. We will use [PyTorch](https://pytorch.org/) as the machine learning framework.\n",
        "\n",
        "At this stage, all functions and related PyTorch methods will be provided and used as is. This is because this tutorial is not meant to learn PyTorch, but rather to focus on understanding data and basic machine learning concepts. In the following tutorials, you will learn how to develop, train and evaluate models on different kinds of data."
      ]
    },
    {
      "cell_type": "markdown",
      "metadata": {
        "id": "yUgpszup1kCy",
        "colab_type": "text"
      },
      "source": [
        "# Data download"
      ]
    },
    {
      "cell_type": "markdown",
      "metadata": {
        "id": "Fjpnx7t81vKD",
        "colab_type": "text"
      },
      "source": [
        "In this section, we provide a function for downloading the CIFAR-10 dataset. It takes as input two arguments:\n",
        "- **path**: directory where the dowloaded dataset will be saved.\n",
        "- **train_flag**: boolean flag indicating whether to download data from the training set (`train_flag=True`) or the test set (`train_flag=False`).\n",
        "\n",
        "It returns two elements, namely:\n",
        "- **imgs**: numpy array representing the downloaded images of size N x 32 x 32 x 3 where N is the number of images.\n",
        "- **labels**: list of N (indexed-)classes, each one associated with a single image."
      ]
    },
    {
      "cell_type": "code",
      "metadata": {
        "id": "KctjRqgm2Fze",
        "colab_type": "code",
        "colab": {}
      },
      "source": [
        "import torch\n",
        "import torchvision\n",
        "\n",
        "\n",
        "def download_CIFAR10(path, train_flag):\n",
        "  \"\"\"\n",
        "  Args:\n",
        "     path: directory where the dowloaded dataset will be saved.\n",
        "     train_flag: if `True`, download data from training set, otherwise\n",
        "        download from test set.\n",
        "        \n",
        "  Return:\n",
        "     A tuple of two elements (imgs, labels) where\n",
        "        imgs: a numpy array of shape N x 32 x 32 x 3 where N is the number of images.\n",
        "        labels: list of N (indexed-)classes, each one associated with a single image.\n",
        "  \n",
        "  \"\"\"\n",
        "  dataset = torchvision.datasets.CIFAR10(\n",
        "      root=path, train=train_flag, download=True\n",
        "  )\n",
        "  imgs, labels = dataset.data, dataset.targets\n",
        "  return imgs, labels\n"
      ],
      "execution_count": 0,
      "outputs": []
    },
    {
      "cell_type": "markdown",
      "metadata": {
        "id": "lRY0tkh79h48",
        "colab_type": "text"
      },
      "source": [
        "## Exercise\n",
        "\n",
        "Download the CIFAR-10 train dataset."
      ]
    },
    {
      "cell_type": "code",
      "metadata": {
        "id": "30NO1znU3eDK",
        "colab_type": "code",
        "outputId": "e13e500e-28b6-4ed7-c362-b59d43b4eca4",
        "colab": {
          "base_uri": "https://localhost:8080/",
          "height": 84,
          "referenced_widgets": [
            "744bcff60f3e4904ab633ed1c188b852",
            "1c58caeeca35426294876b9095968de6",
            "eefb46f0423d476aae2d49924bf71dad",
            "1b50aad2b18f4d479bc7339d233f9d91",
            "a3ebba61ae3843ba876a66a3970d3105",
            "e71626cf561b49338e8b48859c800a95",
            "b5e63baa379a469395c5e6ad3f3d58a4",
            "b05a96d81de840dfaeb7158db2ef4639"
          ]
        }
      },
      "source": [
        "path = \"./\"\n",
        "imgs, labels = download_CIFAR10(path, True) # To complete.\n"
      ],
      "execution_count": 2,
      "outputs": [
        {
          "output_type": "stream",
          "text": [
            "Downloading https://www.cs.toronto.edu/~kriz/cifar-10-python.tar.gz to ./cifar-10-python.tar.gz\n"
          ],
          "name": "stdout"
        },
        {
          "output_type": "display_data",
          "data": {
            "application/vnd.jupyter.widget-view+json": {
              "model_id": "744bcff60f3e4904ab633ed1c188b852",
              "version_minor": 0,
              "version_major": 2
            },
            "text/plain": [
              "HBox(children=(IntProgress(value=1, bar_style='info', max=1), HTML(value='')))"
            ]
          },
          "metadata": {
            "tags": []
          }
        },
        {
          "output_type": "stream",
          "text": [
            "Extracting ./cifar-10-python.tar.gz to ./\n"
          ],
          "name": "stdout"
        }
      ]
    },
    {
      "cell_type": "code",
      "metadata": {
        "id": "RQpCJblqhSWE",
        "colab_type": "code",
        "outputId": "62eaed27-e095-4f11-fb82-1f2f51f91ee2",
        "colab": {
          "base_uri": "https://localhost:8080/",
          "height": 35
        }
      },
      "source": [
        "print (path)"
      ],
      "execution_count": 3,
      "outputs": [
        {
          "output_type": "stream",
          "text": [
            "./\n"
          ],
          "name": "stdout"
        }
      ]
    },
    {
      "cell_type": "markdown",
      "metadata": {
        "colab_type": "text",
        "id": "E9RrkHB3-anO"
      },
      "source": [
        "## Exercise\n",
        "\n",
        "Download the CIFAR-10 test dataset."
      ]
    },
    {
      "cell_type": "code",
      "metadata": {
        "id": "rPQBZhzl3qZp",
        "colab_type": "code",
        "outputId": "0f944a22-9886-4acb-b2da-b96b115fd158",
        "colab": {
          "base_uri": "https://localhost:8080/",
          "height": 35
        }
      },
      "source": [
        "test_imgs, test_labels = download_CIFAR10(path, False) # To complete.\n"
      ],
      "execution_count": 4,
      "outputs": [
        {
          "output_type": "stream",
          "text": [
            "Files already downloaded and verified\n"
          ],
          "name": "stdout"
        }
      ]
    },
    {
      "cell_type": "markdown",
      "metadata": {
        "id": "0nbcM9SC-8MX",
        "colab_type": "text"
      },
      "source": [
        "# Validation dataset"
      ]
    },
    {
      "cell_type": "markdown",
      "metadata": {
        "id": "yY2fanet_dMf",
        "colab_type": "text"
      },
      "source": [
        "In the previous section, functions were provided to download the **train** and **test** datasets. As you may have learned in this school, we normally need three sets of data in a machine learning project, namely train, **validation**, and test sets. Unfortunately, the CIFAR-10 dataset does not contain a native preprocessed validation dataset, therefore we need to create a **custom** one by sampling from the **training** dataset."
      ]
    },
    {
      "cell_type": "markdown",
      "metadata": {
        "id": "PLxTIkNeCHA3",
        "colab_type": "text"
      },
      "source": [
        "In this section, we provide a function for creating a validation dataset from the original training dataset. It takes as input five arguments:\n",
        "- **imgs**: numpy array representing the image set from which the partitioning is made.\n",
        "- **labels**: labels associated with the provided image set.\n",
        "- **valid_ratio** (optional): portion of the data that will be used for  the validation set. Default: `0.1`.\n",
        "- **shuffle** (optional): whether or not the data need to be shuffled before the partitioning is made. Default: `True`.\n",
        "- **seed** (optional): seed of the random generator. Default: `1234`.\n",
        "\n",
        "It provides as output 4 elements, which are:\n",
        "- **train_imgs**: numpy array representing the images of the training set after the splitting is done.\n",
        "- **train_labels**: labels associated with the images of the training set.\n",
        "- **valid_imgs**: numpy array representing the images of the validation set after the splitting is done.\n",
        "- **valid_labels**: labels associated with the images of the validation set."
      ]
    },
    {
      "cell_type": "code",
      "metadata": {
        "id": "m_LYjCXrEql1",
        "colab_type": "code",
        "colab": {}
      },
      "source": [
        "import numpy as np\n",
        "\n",
        "\n",
        "def partition_dataset(imgs, labels, valid_ratio=0.1, shuffle=True, seed=1234):\n",
        "  \"\"\"\n",
        "  Args:\n",
        "     imgs: numpy array representing the image set from which \n",
        "        the partitioning is made.\n",
        "     labels: the labels associated with the provided images.\n",
        "     valid_ratio (optional): the portion of the data that will be used in\n",
        "        the validation set. Default: 0.1.\n",
        "     shuffle (optional): whether or not to shuffle the data. Default: True.\n",
        "     seed (optional): the seed of the numpy random generator: Default: 1234.\n",
        "        \n",
        "  Return:\n",
        "     A tuple of 4 elements (train_imgs, train_labels, valid_imgs, valid_labels)\n",
        "     where:\n",
        "        train_imgs: a numpy array of images for the training set.\n",
        "        train_labels: labels associated with the images in the training set.\n",
        "        valid_imgs: a numpy array of images for the validation set.\n",
        "        valid_labels: labels associated with the images in the validation set.\n",
        "  \n",
        "  \"\"\"\n",
        "  if shuffle:\n",
        "    np.random.seed(seed)  # Set the random seed of numpy.\n",
        "    indices = np.random.permutation(imgs.shape[0])\n",
        "  else:\n",
        "    indices = np.arange(imgs.shape[0])\n",
        "  \n",
        "  train_idx, valid_idx = np.split(\n",
        "      indices, \n",
        "      [int((1.0 - valid_ratio)*len(indices))]\n",
        "  )\n",
        "  train_imgs, valid_imgs = imgs[train_idx], imgs[valid_idx]\n",
        "  tgt = np.array(labels)\n",
        "  train_labels, valid_labels = tgt[train_idx].tolist(), tgt[valid_idx].tolist()\n",
        "  return train_imgs, train_labels, valid_imgs, valid_labels\n",
        "  "
      ],
      "execution_count": 0,
      "outputs": []
    },
    {
      "cell_type": "markdown",
      "metadata": {
        "colab_type": "text",
        "id": "uZ-K7scKNWo0"
      },
      "source": [
        "## Exercise\n",
        "\n",
        "Using the default parameters, generate the custom training and validation datasets."
      ]
    },
    {
      "cell_type": "code",
      "metadata": {
        "id": "MYhh6Cb9ILc2",
        "colab_type": "code",
        "colab": {}
      },
      "source": [
        "train_imgs, train_labels, valid_imgs, valid_labels = partition_dataset(imgs, labels, valid_ratio=0.1, shuffle=True, seed=1234) # To complete.\n"
      ],
      "execution_count": 0,
      "outputs": []
    },
    {
      "cell_type": "markdown",
      "metadata": {
        "id": "6d3B5YMVNucn",
        "colab_type": "text"
      },
      "source": [
        "# Data visualization"
      ]
    },
    {
      "cell_type": "markdown",
      "metadata": {
        "id": "QgUkFNKcPS8I",
        "colab_type": "text"
      },
      "source": [
        "It is always a good practice to visualize the data we are working with. In particular, visualizing the data distribution will provide valuable insights on the data at hand. \n",
        "\n",
        "In this section, we provide some functions for visualizing image data and computing the label distribution within a dataset."
      ]
    },
    {
      "cell_type": "code",
      "metadata": {
        "id": "ac8QuRoHhGql",
        "colab_type": "code",
        "colab": {}
      },
      "source": [
        "import matplotlib.pyplot as plt\n",
        "\n",
        "\n",
        "def plot_image(image):\n",
        "  \"\"\"\n",
        "  Plot a single image.\n",
        "  \n",
        "  Args:\n",
        "     image: image to be plotted.\n",
        "     \n",
        "  \"\"\"\n",
        "  plt.imshow(image)\n",
        "  plt.show()\n",
        "\n",
        "  \n",
        "def plot_random_images_from_dataset(images, n):  \n",
        "  \"\"\"\n",
        "  Randomly sample n images from an image set and plot them in a grid.\n",
        "  \n",
        "  Args:\n",
        "     images: collection of images from which sampling will be made.\n",
        "     n: the number of images to be sampled.\n",
        "     \n",
        "  \"\"\"\n",
        "  sampled_indices = np.random.choice(images.shape[0], n, False)\n",
        "  sampled_images = images[sampled_indices]\n",
        "  \n",
        "  sampled_images = np.transpose(sampled_images, (0, 3, 1, 2))\n",
        "  sampled_tensor = torch.Tensor(sampled_images)\n",
        "  \n",
        "  grid_tensor = torchvision.utils.make_grid(\n",
        "      sampled_tensor, normalize=True, range=(0, 255)\n",
        "  )\n",
        "  grid_tensor = np.transpose(grid_tensor.numpy(), (1, 2, 0))\n",
        "  \n",
        "  plot_image(grid_tensor)\n",
        "  \n",
        "  \n",
        "def plot_dataset_histogram(labels, title='Label distribution'):\n",
        "  \"\"\"\n",
        "  Plot the histogram/distribution of the labels within a dataset.\n",
        "  \n",
        "  Args:\n",
        "     labels: collection of labels from which the distribution is computed.\n",
        "     \n",
        "  \"\"\"\n",
        "  _ = plt.hist(labels, bins=np.arange(11)-0.5, rwidth=0.85)\n",
        "  plt.title(title)\n",
        "  plt.xlabel('Label')\n",
        "  plt.ylabel('Frequency')\n",
        "  plt.xticks(np.arange(10))\n",
        "  plt.show()\n"
      ],
      "execution_count": 0,
      "outputs": []
    },
    {
      "cell_type": "markdown",
      "metadata": {
        "colab_type": "text",
        "id": "kVKSaRGphrBS"
      },
      "source": [
        "## Exercise\n",
        "\n",
        "Use the previous defined functions to visualize samples from training and validation datasets. Also, compute the label distributions within these two datasets. What conclusions could you make?"
      ]
    },
    {
      "cell_type": "code",
      "metadata": {
        "id": "dBmuGAOLsFt9",
        "colab_type": "code",
        "outputId": "8dbd459a-3db1-4e5e-969d-ccb768997297",
        "colab": {
          "base_uri": "https://localhost:8080/",
          "height": 35
        }
      },
      "source": [
        "print(len(train_imgs))"
      ],
      "execution_count": 8,
      "outputs": [
        {
          "output_type": "stream",
          "text": [
            "45000\n"
          ],
          "name": "stdout"
        }
      ]
    },
    {
      "cell_type": "code",
      "metadata": {
        "id": "0cHN_c43Uu6U",
        "colab_type": "code",
        "outputId": "d10a014a-b662-4cc6-fb5b-4dec120f4a05",
        "colab": {
          "base_uri": "https://localhost:8080/",
          "height": 1000
        }
      },
      "source": [
        "# plot a given sample from the training dataset and retrieve its label\n",
        "... # To complete.\n",
        "for i in range(4):\n",
        "  plot_image(train_imgs[i])\n",
        "  print('Label: {}'.format(train_labels[i]))  # 4 = deer.\n"
      ],
      "execution_count": 9,
      "outputs": [
        {
          "output_type": "display_data",
          "data": {
            "image/png": "[encoded data removed]",
            "text/plain": [
              "<Figure size 432x288 with 1 Axes>"
            ]
          },
          "metadata": {
            "tags": [],
            "needs_background": "light"
          }
        },
        {
          "output_type": "stream",
          "text": [
            "\n",
            "Label: 2\n"
          ],
          "name": "stdout"
        },
        {
          "output_type": "display_data",
          "data": {
            "image/png": "[encoded data removed]",
            "text/plain": [
              "<Figure size 432x288 with 1 Axes>"
            ]
          },
          "metadata": {
            "tags": [],
            "needs_background": "light"
          }
        },
        {
          "output_type": "stream",
          "text": [
            "Label: 5\n"
          ],
          "name": "stdout"
        },
        {
          "output_type": "display_data",
          "data": {
            "image/png": "[encoded data removed]",
            "text/plain": [
              "<Figure size 432x288 with 1 Axes>"
            ]
          },
          "metadata": {
            "tags": [],
            "needs_background": "light"
          }
        },
        {
          "output_type": "stream",
          "text": [
            "Label: 2\n"
          ],
          "name": "stdout"
        },
        {
          "output_type": "display_data",
          "data": {
            "image/png": "[encoded data removed]",
            "text/plain": [
              "<Figure size 432x288 with 1 Axes>"
            ]
          },
          "metadata": {
            "tags": [],
            "needs_background": "light"
          }
        },
        {
          "output_type": "stream",
          "text": [
            "Label: 1\n"
          ],
          "name": "stdout"
        }
      ]
    },
    {
      "cell_type": "markdown",
      "metadata": {
        "id": "AVSI7FQozT7Y",
        "colab_type": "text"
      },
      "source": [
        "... # To complete.\n"
      ]
    },
    {
      "cell_type": "code",
      "metadata": {
        "id": "53Y3if2UaZxm",
        "colab_type": "code",
        "outputId": "95c4b4c0-0ff5-4d7b-e0b4-5fdb691b3446",
        "colab": {
          "base_uri": "https://localhost:8080/",
          "height": 137
        }
      },
      "source": [
        "# plot random samples (e.g., 16) from the training dataset\n",
        "... # To complete.\n",
        "plot_random_images_from_dataset(train_imgs, 16)"
      ],
      "execution_count": 10,
      "outputs": [
        {
          "output_type": "display_data",
          "data": {
            "image/png": "[encoded data removed]",
            "text/plain": [
              "<Figure size 432x288 with 1 Axes>"
            ]
          },
          "metadata": {
            "tags": [],
            "needs_background": "light"
          }
        }
      ]
    },
    {
      "cell_type": "markdown",
      "metadata": {
        "id": "S4MtyWh_0hPl",
        "colab_type": "text"
      },
      "source": [
        "... # To complete.\n"
      ]
    },
    {
      "cell_type": "code",
      "metadata": {
        "id": "1ZJ_maHlITUo",
        "colab_type": "code",
        "outputId": "cb0ff325-3d94-4edd-c27f-6499fa78f471",
        "colab": {
          "base_uri": "https://localhost:8080/",
          "height": 295
        }
      },
      "source": [
        "# plot the label distribution of the training dataset\n",
        "... # To complete.\n",
        "plot_dataset_histogram(train_labels, 'Train set label distribution')"
      ],
      "execution_count": 11,
      "outputs": [
        {
          "output_type": "display_data",
          "data": {
            "image/png": "[encoded data removed]",
            "text/plain": [
              "<Figure size 432x288 with 1 Axes>"
            ]
          },
          "metadata": {
            "tags": [],
            "needs_background": "light"
          }
        }
      ]
    },
    {
      "cell_type": "markdown",
      "metadata": {
        "id": "whIHwKKB2FW_",
        "colab_type": "text"
      },
      "source": [
        "... # To complete.\n"
      ]
    },
    {
      "cell_type": "markdown",
      "metadata": {
        "id": "O7Ygn8fsjXho",
        "colab_type": "text"
      },
      "source": [
        "# Shuffling data"
      ]
    },
    {
      "cell_type": "markdown",
      "metadata": {
        "id": "hWmG02g-GrZF",
        "colab_type": "text"
      },
      "source": [
        "When creating your own training/validation/test sets, it is crucial to **shuffle** the original dataset to partition the data across the training/validation/test sets to make sure that they are more representative of the **overall data distribution**. Shuffling your dataset will also reduce biases if your data comes from different data sources.\n",
        "\n",
        "The CIFAR-10 datasets downloaded at the beginning of this tutorial were already shuffled. To visualize the effectiveness of shuffling, suppose you receive a dataset and after the split you observe the following label distributions.\n",
        "\n",
        "What will be the consequences of using this split on your performance metrics?"
      ]
    },
    {
      "cell_type": "code",
      "metadata": {
        "id": "eqPnb5avjXzA",
        "colab_type": "code",
        "outputId": "57d14a0a-b873-49ae-ea18-3ac87b7dedf8",
        "colab": {
          "base_uri": "https://localhost:8080/",
          "height": 573
        }
      },
      "source": [
        "sorted_idx = np.argsort(labels)\n",
        "sorted_imgs = imgs[sorted_idx]\n",
        "sorted_labels = [labels[i] for i in sorted_idx]\n",
        "\n",
        "_, sorted_train_labels, _, sorted_valid_labels = partition_dataset(sorted_imgs, sorted_labels,\n",
        "                                                                   valid_ratio=0.5, shuffle=False)\n",
        "plot_dataset_histogram(sorted_train_labels, 'Train set label distribution')\n",
        "plot_dataset_histogram(sorted_valid_labels, 'Valid set label distribution')"
      ],
      "execution_count": 12,
      "outputs": [
        {
          "output_type": "display_data",
          "data": {
            "image/png": "[encoded data removed]",
            "text/plain": [
              "<Figure size 432x288 with 1 Axes>"
            ]
          },
          "metadata": {
            "tags": [],
            "needs_background": "light"
          }
        },
        {
          "output_type": "display_data",
          "data": {
            "image/png": "[encoded data removed]",
            "text/plain": [
              "<Figure size 432x288 with 1 Axes>"
            ]
          },
          "metadata": {
            "tags": [],
            "needs_background": "light"
          }
        }
      ]
    },
    {
      "cell_type": "markdown",
      "metadata": {
        "id": "N75a0RHI3OkF",
        "colab_type": "text"
      },
      "source": [
        "... # To complete.\n"
      ]
    },
    {
      "cell_type": "markdown",
      "metadata": {
        "id": "ES-dzdF8jfaW",
        "colab_type": "text"
      },
      "source": [
        "Below, we shuffle the data and observe that the labels are evenly distributed in the training/validation sets, which is a required property to perform accurate fine-tuning on a validation set."
      ]
    },
    {
      "cell_type": "code",
      "metadata": {
        "id": "XwcyQ7zJja0x",
        "colab_type": "code",
        "outputId": "e500a15e-fd84-4bf8-a77f-3385b30a0f53",
        "colab": {
          "base_uri": "https://localhost:8080/",
          "height": 573
        }
      },
      "source": [
        "_, shuffled_train_labels, _, shuffled_valid_labels = partition_dataset(\n",
        "    sorted_imgs, sorted_labels, valid_ratio=0.5, shuffle=True\n",
        ")\n",
        "\n",
        "plot_dataset_histogram(shuffled_train_labels, 'Train set label distribution')\n",
        "plot_dataset_histogram(shuffled_valid_labels, 'Valid set label distribution')"
      ],
      "execution_count": 13,
      "outputs": [
        {
          "output_type": "display_data",
          "data": {
            "image/png": "[encoded data removed]",
            "text/plain": [
              "<Figure size 432x288 with 1 Axes>"
            ]
          },
          "metadata": {
            "tags": [],
            "needs_background": "light"
          }
        },
        {
          "output_type": "display_data",
          "data": {
            "image/png": "[encoded data removed]",
            "text/plain": [
              "<Figure size 432x288 with 1 Axes>"
            ]
          },
          "metadata": {
            "tags": [],
            "needs_background": "light"
          }
        }
      ]
    },
    {
      "cell_type": "markdown",
      "metadata": {
        "id": "TU25Ban6jiWe",
        "colab_type": "text"
      },
      "source": [
        "# Dataloaders"
      ]
    },
    {
      "cell_type": "markdown",
      "metadata": {
        "id": "-D0nw531G1wn",
        "colab_type": "text"
      },
      "source": [
        "As you will see in the next tutorials, to train and evaluate machine learning models, we use **dataloaders**. Since machine learning requires heavy usage of data transformation, we want tools that efficiently **transform**, **shuffle** and **batch** our datasets with the option to use multiprocessing workers. A dataloader is an optimized data iterator which provides all these features.\n",
        "\n",
        "Few years ago, to train a deep learning model on a given task we needed to code our own dataloader. Fortunately, modern deep learning frameworks, such as PyTorch and TensorFlow, introduced very efficient dataloaders in their latest releases."
      ]
    },
    {
      "cell_type": "markdown",
      "metadata": {
        "id": "wK1zZ2qanmol",
        "colab_type": "text"
      },
      "source": [
        "## Exercise\n",
        "We show a simple example on how to prepare a dataloader using a small subset of our training set. During training, it is best practice to shuffle the data at the beginning of each **epoch** (each repetition over an entire dataset is typically referred to as an epoch). Thus, we normally set `shuffle=True` for training and `shuffle=False` for evaluation."
      ]
    },
    {
      "cell_type": "code",
      "metadata": {
        "id": "DOrqUB8Fjif-",
        "colab_type": "code",
        "outputId": "93e047e2-bd70-4262-e04c-f89eb4542c44",
        "colab": {
          "base_uri": "https://localhost:8080/",
          "height": 190
        }
      },
      "source": [
        "from torch.utils.data import Dataset, TensorDataset\n",
        "from torch.utils.data import DataLoader\n",
        "\n",
        "\n",
        "def create_dataset(images, labels, n):\n",
        "  \"\"\"\n",
        "  Slice the first n images/labels and create a torch.utils.data.DataLoader.\n",
        "  \n",
        "  Args:\n",
        "     images: numpy array of images.\n",
        "     labels: list of labels associated with the images.\n",
        "     n: the number of images/labels to slice.\n",
        "        \n",
        "  Return:\n",
        "     A torch.utils.data.TensorDataset to be used with a torch.utils.data.DataLoader.\n",
        "     \n",
        "  \"\"\"\n",
        "  imgs = torch.tensor(images[:n], dtype=torch.float)\n",
        "  labels = torch.tensor(labels[:n], dtype=torch.long)\n",
        "  dataset = TensorDataset(imgs, labels)\n",
        "  return dataset\n",
        "\n",
        "\n",
        "n = 100\n",
        "batch_size = 32\n",
        "train_dataset = create_dataset(train_imgs, train_labels, n)\n",
        "train_dataloader = DataLoader(train_dataset, batch_size=batch_size, drop_last=False, shuffle=True)\n",
        "\n",
        "epochs = 2\n",
        "for epoch in range(epochs):\n",
        "  print('Epoch {}/{}:'.format(epoch+1, epochs))\n",
        "  for i, (x, y) in enumerate(train_dataloader):\n",
        "    print('   batch {}/{} of {} examples.'.format(i+1, int(np.ceil(n/batch_size)), y.size(0)))"
      ],
      "execution_count": 14,
      "outputs": [
        {
          "output_type": "stream",
          "text": [
            "Epoch 1/2:\n",
            "   batch 1/4 of 32 examples.\n",
            "   batch 2/4 of 32 examples.\n",
            "   batch 3/4 of 32 examples.\n",
            "   batch 4/4 of 4 examples.\n",
            "Epoch 2/2:\n",
            "   batch 1/4 of 32 examples.\n",
            "   batch 2/4 of 32 examples.\n",
            "   batch 3/4 of 32 examples.\n",
            "   batch 4/4 of 4 examples.\n"
          ],
          "name": "stdout"
        }
      ]
    },
    {
      "cell_type": "markdown",
      "metadata": {
        "id": "X7p5cEgevRLi",
        "colab_type": "text"
      },
      "source": [
        "We see that we can easily iterate over the created dataset for a number of epochs with a simple `for` loop. At every iteration, the dataloader returns a mini-batch of `batch_size` input-label pairs `(x, y)`.\n",
        "\n",
        "By setting `drop_last=False`, the last incomplete batch is kept if the dataset size is not divisible by `batch_size`. When training a model, to calculate the loss we normally average the loss of the examples of a mini-batch. Thus, by having a mini-batch of 4 examples instead of 32, the examples of the last mini-batch have more importance than the other examples of the dataset. In practice, this is not detrimental as the examples are shuffled at the beginning of an epoch. Therefore, at each epoch we should have different examples in the last mini-batch. More details on this topic will be provided in the coming days.\n"
      ]
    },
    {
      "cell_type": "markdown",
      "metadata": {
        "id": "wvwpEr_1iers",
        "colab_type": "text"
      },
      "source": [
        "# Training with neural networks"
      ]
    },
    {
      "cell_type": "markdown",
      "metadata": {
        "id": "e32z51jvlgRJ",
        "colab_type": "text"
      },
      "source": [
        "In this section, we provide neural network based methods that will be used subsequently as black boxes for training and evaluation purposes. Don't worry, in the next tutorials, you will learn how to write such pieces of code.\n",
        "\n",
        "There are two methods that will be intensively used in subsequent sections. \n",
        "\n",
        "The first one is `training_on_dataset` which trains a model on a given dataset. It takes as input the following arguments and returns a **trained model**:\n",
        "- **imgs**: images the model will be trained on.\n",
        "- **labels**: labels associated with the provided images.\n",
        "- **eval_imgs**: images to evaluate the model.\n",
        "- **eval_labels**: labels associated to the images used to evaluate the model.\n",
        "- **epochs**: number of epochs during the training (number of times to loop over the whole set of images/labels).\n",
        "- **batch_size** (optional): size of a mini-batch. Default: `8`.\n",
        "- **lr** (optional): learning rate. Default: `1e-3`.\n",
        "- **seed** (optional): seed of the random generator. Default: `1234`.\n",
        "- **transformations** (optional): transformations to apply on the images during the training process. Default: `None`.\n",
        "- **label_weights** (optional): importance weights associated with each label. Default: `None` (all labels are treated equally).\n",
        "- **metrics** (optional): metrics to monitor during training. Default: `None`.\n",
        "\n",
        "\n",
        "The second one is `evaluate_classes`, which evaluates a trained model on a given dataset. It takes as input the following arguments and returns the **evaluation performance**:\n",
        "- **net**: the trained model to be evaluated.\n",
        "- **imgs**: images the model will be evaluated on.\n",
        "- **labels**: ground truth labels associated with the provided images for performance computation.\n",
        "- **batch_size** (optional): size of a mini-batch. Default: `8`.\n",
        "- **metrics** (optional): performance metrics to compute. Default: `None`.\n",
        "\n"
      ]
    },
    {
      "cell_type": "code",
      "metadata": {
        "id": "TWaFOMsdo4Sj",
        "colab_type": "code",
        "colab": {}
      },
      "source": [
        "import torch.nn as nn\n",
        "import torch.nn.functional as F\n",
        "import torch.optim as optim\n",
        "import sklearn.metrics as metrics\n",
        "\n",
        "\n",
        "device = torch.device('cuda:0' if torch.cuda.is_available() else 'cpu')\n",
        "classe_names = (\n",
        "    'plane', 'car', 'bird', 'cat', 'deer', \n",
        "    'dog', 'frog', 'horse', 'ship', 'truck'\n",
        ")\n",
        "\n",
        "\n",
        "def accuracy(y_true, y_pred):\n",
        "  \"\"\"\n",
        "  Compute the accuracy score.\n",
        "  \n",
        "  Args:\n",
        "     y_true: ground truth labels.\n",
        "     y_pred: predicted labels by a classifier.\n",
        "     \n",
        "  Return:\n",
        "     Accuracy score.\n",
        "     \n",
        "  \"\"\"\n",
        "  return metrics.accuracy_score(y_true, y_pred)\n",
        "\n",
        "\n",
        "def f1_score(y_true, y_pred):\n",
        "  \"\"\"\n",
        "  Compute the F1 score.\n",
        "  \n",
        "  Args:\n",
        "     y_true: ground truth labels.\n",
        "     y_pred: predicted labels by a classifier.\n",
        "     \n",
        "  Return:\n",
        "     F1 score.\n",
        "     \n",
        "  \"\"\"\n",
        "  return metrics.f1_score(y_true, y_pred, average='macro')\n",
        "\n",
        "\n",
        "def plot_metric(train_values, valid_values, name=''):\n",
        "  \"\"\"\n",
        "  Plot the values of a given metric on training and validation sets.\n",
        "  \n",
        "  Args:\n",
        "     train_values: values of the metric on the training set. \n",
        "     valid_values: values of the metric on the validation set.\n",
        "     name: name of the metric.\n",
        "  \"\"\"\n",
        "  x = range(len(train_values))\n",
        "  plt.plot(x, train_values, label='train')\n",
        "  plt.plot(x, valid_values, label='valid')\n",
        "  plt.title(name)\n",
        "  plt.legend()\n",
        "  plt.show()\n",
        "  \n",
        "\n",
        "class AugmentBasedDataset(Dataset):\n",
        "  \"\"\"Encapsulated dataset for data augmentation.\"\"\"\n",
        "\n",
        "  def __init__(self, dataset, transform=None):\n",
        "    \"\"\"\n",
        "    Args:\n",
        "        dataset: dataset on which to perform data augmentation.\n",
        "        transform (callable, optional): optional transform to be applied\n",
        "            on a sample.\n",
        "\n",
        "    \"\"\"\n",
        "    self.dataset = dataset\n",
        "    self.transform = transform\n",
        "\n",
        "  def __len__(self):\n",
        "    return len(self.dataset)\n",
        "\n",
        "  def __getitem__(self, idx):\n",
        "    img, label = self.dataset[idx]\n",
        "    if self.transform:\n",
        "        img = self.transform(img)\n",
        "    return img, label\n"
      ],
      "execution_count": 0,
      "outputs": []
    },
    {
      "cell_type": "code",
      "metadata": {
        "id": "BKCGEYWIpW3n",
        "colab_type": "code",
        "colab": {}
      },
      "source": [
        "class Net(nn.Module):\n",
        "  \"\"\"Basic CNN used for image classification.\"\"\"\n",
        "  def __init__(self):\n",
        "    super(Net, self).__init__()\n",
        "    self.conv1 = nn.Conv2d(3, 6, 5)\n",
        "    self.pool = nn.MaxPool2d(2, 2)\n",
        "    self.conv2 = nn.Conv2d(6, 16, 5)\n",
        "    self.fc1 = nn.Linear(16 * 5 * 5, 120)\n",
        "    self.fc2 = nn.Linear(120, 84)\n",
        "    self.fc3 = nn.Linear(84, 10)\n",
        "\n",
        "  def forward(self, x):\n",
        "    x = self.pool(F.relu(self.conv1(x)))\n",
        "    x = self.pool(F.relu(self.conv2(x)))\n",
        "    x = x.view(-1, 16 * 5 * 5)\n",
        "    x = F.relu(self.fc1(x))\n",
        "    x = F.relu(self.fc2(x))\n",
        "    x = self.fc3(x)\n",
        "    return x"
      ],
      "execution_count": 0,
      "outputs": []
    },
    {
      "cell_type": "code",
      "metadata": {
        "id": "Zm19z0tk1j8e",
        "colab_type": "code",
        "colab": {}
      },
      "source": [
        "def training_on_dataset(imgs, labels, eval_imgs, eval_labels,\n",
        "                        epochs, batch_size=8, lr=1e-3,\n",
        "                        seed=1234, transformations=None, label_weights=None,\n",
        "                        metrics=None, verbose=True):\n",
        "  \"\"\"Black box function to train a neural network on CIFAR-10 dataset.\"\"\"\n",
        "  torch.manual_seed(seed)\n",
        "  torch.cuda.manual_seed(seed)\n",
        "  np.random.seed(seed)\n",
        "  \n",
        "  # Train data.\n",
        "  train_imgs = ((imgs/255.0) - 0.5) * 2.0  # Normalize to [-1, 1].\n",
        "  train_imgs = np.transpose(train_imgs, (0, 3, 1, 2))\n",
        "  train_labels = np.array(labels)\n",
        "  \n",
        "  train_dataset = TensorDataset(\n",
        "      torch.from_numpy(train_imgs).float(), \n",
        "      torch.from_numpy(train_labels).long()\n",
        "  )\n",
        "  train_dataset = AugmentBasedDataset(train_dataset, transformations)\n",
        "  train_dataloader = DataLoader(train_dataset, batch_size=batch_size, shuffle=True)\n",
        "\n",
        "  # Eval data.\n",
        "  eval_imgs = ((eval_imgs/255.0) - 0.5) * 2.0 # Normalize to [-1, 1]\n",
        "  eval_imgs = np.transpose(eval_imgs, (0, 3, 1, 2))\n",
        "  eval_labels = np.array(eval_labels)\n",
        "  \n",
        "  eval_dataset = TensorDataset(\n",
        "      torch.from_numpy(eval_imgs).float(), \n",
        "      torch.from_numpy(eval_labels).long()\n",
        "  )\n",
        "  eval_dataloader = DataLoader(eval_dataset, batch_size=batch_size, shuffle=False)\n",
        "\n",
        "  net = Net()\n",
        "  net = net.to(device)\n",
        "  if label_weights is not None:\n",
        "    label_weights = torch.tensor(label_weights).float()\n",
        "    label_weights = label_weights.to(device)\n",
        "  criterion = nn.CrossEntropyLoss(weight=label_weights)\n",
        "  optimizer = optim.Adam(net.parameters(), lr=lr)\n",
        "  \n",
        "  train_loss_values = []\n",
        "  eval_loss_values = []\n",
        "  train_metric_values = None\n",
        "  eval_metric_values = None\n",
        "  \n",
        "  if metrics is not None:\n",
        "    if isinstance(metrics, dict):\n",
        "      train_metric_values = {metric: [] for metric in metrics.keys()}\n",
        "      eval_metric_values = {metric: [] for metric in metrics.keys()}\n",
        "    elif isinstance(metrics, (list, tuple)):\n",
        "      train_metric_values = {metric: [] for metric in range(len(metrics))}\n",
        "      eval_metric_values = {metric: [] for metric in range(len(metrics))}\n",
        "    else:\n",
        "      metrics = [metrics]\n",
        "      train_metric_values = {metric: [] for metric in range(len(metrics))}\n",
        "      eval_metric_values = {metric: [] for metric in range(len(metrics))}\n",
        "\n",
        "  for epoch in range(epochs):  # Loop over the dataset.\n",
        "    net.train()\n",
        "    running_loss = 0.0\n",
        "    n_update = 0\n",
        "    y_true = []\n",
        "    y_pred = []\n",
        "    for data in train_dataloader:\n",
        "      # data is a tuple of (inputs, targets).\n",
        "      inputs, targets = data\n",
        "      \n",
        "      if targets.numel() > 1:\n",
        "        y_true.extend(targets.flatten().tolist())\n",
        "      else:\n",
        "        y_true.append(targets.flatten().tolist())\n",
        "      \n",
        "      inputs = inputs.to(device)\n",
        "      targets = targets.to(device)       \n",
        "\n",
        "      # Reset the parameter gradients.\n",
        "      optimizer.zero_grad()\n",
        "\n",
        "      # Forward + backward + optimize.\n",
        "      outputs = net(inputs)\n",
        "      loss = criterion(outputs, targets)\n",
        "      loss.backward()\n",
        "      optimizer.step()\n",
        "      \n",
        "      # Predict label.\n",
        "      _, predicted = torch.max(outputs, 1)\n",
        "      if predicted.numel() > 1:\n",
        "        y_pred.extend(predicted.flatten().tolist())\n",
        "      else:\n",
        "        y_pred.append(predicted.flatten().tolist())\n",
        "\n",
        "      running_loss += loss.item()\n",
        "      n_update += 1\n",
        "\n",
        "    # Save and print statistics at the end of each training epoch.\n",
        "    train_loss = running_loss / n_update\n",
        "    train_loss_values.append(train_loss)\n",
        "    eval_loss, eval_true, eval_pred = evaluate_during_training(net, criterion, eval_dataloader)\n",
        "    eval_loss_values.append(eval_loss)\n",
        "    \n",
        "    if metrics is not None:\n",
        "      for metric in metrics.keys():\n",
        "        train_metric_values[metric].append(metrics[metric](y_true, y_pred))\n",
        "        eval_metric_values[metric].append(metrics[metric](eval_true, eval_pred))\n",
        "  \n",
        "    if verbose:\n",
        "      print('[Epoch {}/{}] Training loss: {:.3f} | Validation loss: {:.3f}' \n",
        "            .format(epoch + 1, epochs, train_loss, eval_loss)\n",
        "      )\n",
        "    running_loss = 0.0\n",
        "    n_update = 0\n",
        "    y_true = []\n",
        "    y_pred = []\n",
        "  \n",
        "  if verbose:\n",
        "    plot_metric(train_loss_values, eval_loss_values, 'Loss')\n",
        "    if metrics is not None:\n",
        "      for metric in metrics.keys():\n",
        "        plot_metric(train_metric_values[metric], eval_metric_values[metric], metric)\n",
        "  \n",
        "  return net\n",
        "\n",
        "\n",
        "def evaluate_during_training(net, criterion, dataloader):\n",
        "  net.eval()\n",
        "  running_loss = 0.0\n",
        "  n_update = 0\n",
        "  y_true = []\n",
        "  y_pred = []\n",
        "  for data in dataloader:\n",
        "    inputs, targets = data\n",
        "    if targets.numel() > 1:\n",
        "      y_true.extend(targets.flatten().tolist())\n",
        "    else:\n",
        "      y_true.append(targets.flatten().tolist())\n",
        "    inputs = inputs.to(device)\n",
        "    targets = targets.to(device) \n",
        "    with torch.no_grad():\n",
        "      outputs = net(inputs)\n",
        "      loss = criterion(outputs, targets)  \n",
        "      _, predicted = torch.max(outputs, 1)\n",
        "      if predicted.numel() > 1:\n",
        "        y_pred.extend(predicted.flatten().tolist())\n",
        "      else:\n",
        "        y_pred.append(predicted.flatten().tolist())\n",
        "      running_loss += loss.item()\n",
        "      n_update += 1\n",
        "  eval_loss = running_loss / n_update\n",
        "  return eval_loss, y_true, y_pred\n",
        "\n",
        "\n",
        "def evaluate_classes(net, imgs, labels, batch_size=8, metrics=None, verbose=True):\n",
        "  \"\"\"Black box function to evaluate a neural network on CIFAR-10 dataset.\"\"\"\n",
        "  normalized_imgs = ((imgs/255.0) - 0.5) * 2.0 # Normalize to [-1, 1]\n",
        "  normalized_imgs = np.transpose(normalized_imgs, (0, 3, 1, 2))\n",
        "  arr_labels = np.array(labels)\n",
        "  \n",
        "  dataset = TensorDataset(\n",
        "      torch.from_numpy(normalized_imgs).float(), \n",
        "      torch.from_numpy(arr_labels).long()\n",
        "  )\n",
        "  dataloader = DataLoader(dataset, batch_size=batch_size, shuffle=False)\n",
        "  \n",
        "  net = net.to(device)\n",
        "  correct = 0\n",
        "  total = 0\n",
        "  class_correct = [0.0] * 10\n",
        "  class_total = [0.0] * 10\n",
        "  class_acc = [0.0] * 10\n",
        "  \n",
        "  metric_values = None\n",
        "  if not (metrics is None):\n",
        "    if isinstance(metrics, dict):\n",
        "      metric_values = {a: 0.0 for a in metrics.keys()}\n",
        "    elif isinstance(metrics, (list, tuple)):\n",
        "      metric_values = {a: 0.0 for a in range(len(metrics))}\n",
        "    else:\n",
        "      metrics = [metrics]\n",
        "      metric_values = {a: 0.0 for a in range(len(metrics))}\n",
        "  \n",
        "  with torch.no_grad():\n",
        "    y_true = []\n",
        "    y_pred = []\n",
        "    for data in dataloader:\n",
        "      inputs, targets = data\n",
        "      \n",
        "      if targets.numel() > 1:\n",
        "        y_true.extend(targets.flatten().tolist())\n",
        "      else:\n",
        "        y_true.append(targets.flatten().tolist())\n",
        "        \n",
        "      inputs = inputs.to(device)\n",
        "      targets = targets.to(device)\n",
        "      outputs = net(inputs)\n",
        "      _, predicted = torch.max(outputs, 1)\n",
        "      \n",
        "      if predicted.numel()>1:\n",
        "        y_pred.extend(predicted.flatten().tolist())\n",
        "      else:\n",
        "        y_pred.append(predicted.flatten().tolist())\n",
        "      \n",
        "      total += targets.size(0)\n",
        "      correct += (predicted == targets).sum().item()\n",
        "      \n",
        "      c = (predicted == targets).squeeze()\n",
        "      for i in range(targets.size(0)):\n",
        "        label = targets[i]\n",
        "        class_correct[label] += c[i].item()\n",
        "        class_total[label] += 1\n",
        "            \n",
        "    if not (metric_values is None):\n",
        "      for a in metric_values.keys():\n",
        "        metric_values[a] = metrics[a](y_true, y_pred)\n",
        "            \n",
        "  global_acc = correct / max(total, 1.0)\n",
        "  \n",
        "  if verbose:\n",
        "    if metrics is not None:\n",
        "      print('Evaluation on the validation dataset:')\n",
        "      for a in metric_values.keys():\n",
        "        print('Metric {}: {:.0%}'.format(a, metric_values[a]))\n",
        "\n",
        "  for i in range(10):\n",
        "    class_acc[i] = class_correct[i] / max(class_total[i], 1.0)\n",
        "    if verbose:\n",
        "      print('Accuracy of {:<5s} ({}): {:.0%}'\n",
        "            .format(classe_names[i], i, class_acc[i])\n",
        "           )\n",
        "    \n",
        "  return global_acc, class_acc\n"
      ],
      "execution_count": 0,
      "outputs": []
    },
    {
      "cell_type": "markdown",
      "metadata": {
        "id": "jbYLAX2Ktt7H",
        "colab_type": "text"
      },
      "source": [
        "# How much training data is needed?\n",
        "\n"
      ]
    },
    {
      "cell_type": "markdown",
      "metadata": {
        "id": "txSjlglLvaC_",
        "colab_type": "text"
      },
      "source": [
        "In this section, we study the effect of the size of the training data on the final performance of the considered task. We also explore a technique, called **data augmentation**, to artificially augment the size of a given dataset during the training process.\n",
        "\n",
        "Note that we keep the validation dataset fixed throughout this tutorial. This is just for the purpose of this tutorial, as we want the different evaluations to be comparable. In real-life scenarios, the validation dataset should never be bigger than the training dataset."
      ]
    },
    {
      "cell_type": "markdown",
      "metadata": {
        "id": "7MKcpyiQxl-6",
        "colab_type": "text"
      },
      "source": [
        "## Training with only 1% of the data"
      ]
    },
    {
      "cell_type": "markdown",
      "metadata": {
        "id": "eOm2bCVxy5mc",
        "colab_type": "text"
      },
      "source": [
        "Let's start by considering only 1% of our training data. The following method allows to select a portion of data from a given dataset. It takes as input five arguments:\n",
        "- **imgs**: numpy array representing the image set from which the selection is made.\n",
        "- **labels**: labels associated with the provided image set.\n",
        "- **ratio** (optional): portion of the data that will be selected. Default: `0.1`.\n",
        "- **shuffle** (optional): whether or not the data need to be shuffled before the selection is made. Default: `True`.\n",
        "- **seed** (optional): seed of the random generator: Default: `1234`.\n",
        "\n",
        "It provides as output 2 elements:\n",
        "- **select_imgs**: numpy array of the selected images.\n",
        "- **select_labels**: labels associated with the selected images.\n"
      ]
    },
    {
      "cell_type": "code",
      "metadata": {
        "id": "YKQZqtge0QoV",
        "colab_type": "code",
        "colab": {}
      },
      "source": [
        "def select_subset_from_dataset(imgs, labels, ratio=0.1, shuffle=True, seed=1234):\n",
        "  \"\"\"\n",
        "  Args:\n",
        "     imgs: numpy array representing the image set from which \n",
        "        the selection is made.\n",
        "     labels: the labels associated with the provided images.\n",
        "     ratio (optional): portion of the data to be selected. Default: 0.1.\n",
        "     shuffle (optional): Whether or not to shuffle the data. Default: True.\n",
        "     seed (optional): seed of the numpy random generator: Default: 1234.\n",
        "        \n",
        "  Return:\n",
        "     A tuple of 2 elements (select_imgs, select_labels)\n",
        "     where:\n",
        "        select_imgs: a numpy array of the selected images.\n",
        "        select_labels: labels associated with the selected images.\n",
        "      \n",
        "  \"\"\"\n",
        "  if shuffle:\n",
        "    np.random.seed(seed)  # Set the random seed of numpy.\n",
        "    indices = np.random.permutation(imgs.shape[0])\n",
        "  else:\n",
        "    indices = np.arange(imgs.shape[0])\n",
        "  idx, _ = np.split(indices, [int(ratio*len(indices))])\n",
        "  select_imgs = imgs[idx]\n",
        "  tgt = np.array(labels)\n",
        "  select_labels = tgt[idx].tolist()\n",
        "  return select_imgs, select_labels\n",
        "\n",
        "\n",
        "select_imgs, select_labels = select_subset_from_dataset(\n",
        "    train_imgs, train_labels, 0.01\n",
        ")"
      ],
      "execution_count": 0,
      "outputs": []
    },
    {
      "cell_type": "markdown",
      "metadata": {
        "colab_type": "text",
        "id": "rfbVmI7V4dxF"
      },
      "source": [
        "### Exercise\n",
        "\n",
        "Train a model using the selected data and evaluate its performance on the validation dataset. The following arguments are required to be used:\n",
        "- **epochs**: `5`.\n",
        "- **batch_size**: `32`.\n",
        "- **metrics**: `{'Accuracy': accuracy}`.\n",
        "\n",
        "What do you observe?"
      ]
    },
    {
      "cell_type": "code",
      "metadata": {
        "id": "UglqJKbYvdpY",
        "colab_type": "code",
        "colab": {}
      },
      "source": [
        "# training on selected data\n",
        "model = ... # To complete.\n",
        "\n",
        "# evaluate the trained model on the validation dataset\n",
        "_ = ... # To complete.\n"
      ],
      "execution_count": 0,
      "outputs": []
    },
    {
      "cell_type": "markdown",
      "metadata": {
        "id": "0dcves3L8_nE",
        "colab_type": "text"
      },
      "source": [
        "... # To complete.\n"
      ]
    },
    {
      "cell_type": "markdown",
      "metadata": {
        "colab_type": "text",
        "id": "wExcwcMc7c7_"
      },
      "source": [
        "### Exercise\n",
        "\n",
        "In the previous exercise, we restricted the number of epochs to `5`. In this section, we ask you to train your model using a higher number of epochs (e.g., `50`, `100`). For a fair comparison, you should keep the following arguments:\n",
        "- **batch_size**: `32`.\n",
        "- **metrics**: `{'Accuracy': accuracy}`.\n",
        "- **eval_imgs**: `valid_imgs`.\n",
        "- **eval_labels**: `eval_labels`.\n",
        "\n",
        "What do you observe?\n"
      ]
    },
    {
      "cell_type": "code",
      "metadata": {
        "id": "fBVuYOZ58VkD",
        "colab_type": "code",
        "outputId": "8a7f1023-2c51-487a-b2e7-cad87ddf862a",
        "colab": {
          "base_uri": "https://localhost:8080/",
          "height": 1000
        }
      },
      "source": [
        "# training on selected data\n",
        "model = training_on_dataset(select_imgs, select_labels, valid_imgs, valid_labels, epochs=50, batch_size=32, metrics={'Accuracy': accuracy}) # To complete.\n",
        "\n",
        "\n",
        "# evaluate the trained model on the validation dataset\n",
        "_ = evaluate_classes(model, valid_imgs, valid_labels, batch_size=32, metrics={'Accuracy': accuracy}) # To complete.\n"
      ],
      "execution_count": 20,
      "outputs": [
        {
          "output_type": "stream",
          "text": [
            "[Epoch 1/50] Training loss: 2.287 | Validation loss: 2.269\n",
            "[Epoch 2/50] Training loss: 2.220 | Validation loss: 2.206\n",
            "[Epoch 3/50] Training loss: 2.117 | Validation loss: 2.158\n",
            "[Epoch 4/50] Training loss: 2.034 | Validation loss: 2.116\n",
            "[Epoch 5/50] Training loss: 1.996 | Validation loss: 2.121\n",
            "[Epoch 6/50] Training loss: 1.914 | Validation loss: 2.059\n",
            "[Epoch 7/50] Training loss: 1.874 | Validation loss: 2.034\n",
            "[Epoch 8/50] Training loss: 1.819 | Validation loss: 2.046\n",
            "[Epoch 9/50] Training loss: 1.745 | Validation loss: 2.042\n",
            "[Epoch 10/50] Training loss: 1.673 | Validation loss: 2.075\n",
            "[Epoch 11/50] Training loss: 1.598 | Validation loss: 2.162\n",
            "[Epoch 12/50] Training loss: 1.601 | Validation loss: 2.086\n",
            "[Epoch 13/50] Training loss: 1.573 | Validation loss: 2.155\n",
            "[Epoch 14/50] Training loss: 1.538 | Validation loss: 2.076\n",
            "[Epoch 15/50] Training loss: 1.469 | Validation loss: 2.106\n",
            "[Epoch 16/50] Training loss: 1.333 | Validation loss: 2.147\n",
            "[Epoch 17/50] Training loss: 1.311 | Validation loss: 2.167\n",
            "[Epoch 18/50] Training loss: 1.347 | Validation loss: 2.209\n",
            "[Epoch 19/50] Training loss: 1.284 | Validation loss: 2.203\n",
            "[Epoch 20/50] Training loss: 1.232 | Validation loss: 2.343\n",
            "[Epoch 21/50] Training loss: 1.162 | Validation loss: 2.287\n",
            "[Epoch 22/50] Training loss: 1.170 | Validation loss: 2.402\n",
            "[Epoch 23/50] Training loss: 1.069 | Validation loss: 2.328\n",
            "[Epoch 24/50] Training loss: 0.910 | Validation loss: 2.432\n",
            "[Epoch 25/50] Training loss: 0.860 | Validation loss: 2.576\n",
            "[Epoch 26/50] Training loss: 0.883 | Validation loss: 2.622\n",
            "[Epoch 27/50] Training loss: 0.934 | Validation loss: 2.675\n",
            "[Epoch 28/50] Training loss: 1.036 | Validation loss: 2.617\n",
            "[Epoch 29/50] Training loss: 0.962 | Validation loss: 2.385\n",
            "[Epoch 30/50] Training loss: 0.818 | Validation loss: 2.522\n",
            "[Epoch 31/50] Training loss: 0.599 | Validation loss: 2.766\n",
            "[Epoch 32/50] Training loss: 0.508 | Validation loss: 3.011\n",
            "[Epoch 33/50] Training loss: 0.463 | Validation loss: 3.078\n",
            "[Epoch 34/50] Training loss: 0.418 | Validation loss: 3.253\n",
            "[Epoch 35/50] Training loss: 0.327 | Validation loss: 3.406\n",
            "[Epoch 36/50] Training loss: 0.286 | Validation loss: 3.805\n",
            "[Epoch 37/50] Training loss: 0.238 | Validation loss: 3.885\n",
            "[Epoch 38/50] Training loss: 0.258 | Validation loss: 4.015\n",
            "[Epoch 39/50] Training loss: 0.207 | Validation loss: 3.916\n",
            "[Epoch 40/50] Training loss: 0.151 | Validation loss: 4.213\n",
            "[Epoch 41/50] Training loss: 0.120 | Validation loss: 4.445\n",
            "[Epoch 42/50] Training loss: 0.130 | Validation loss: 4.490\n",
            "[Epoch 43/50] Training loss: 0.128 | Validation loss: 4.623\n",
            "[Epoch 44/50] Training loss: 0.146 | Validation loss: 4.938\n",
            "[Epoch 45/50] Training loss: 0.129 | Validation loss: 4.723\n",
            "[Epoch 46/50] Training loss: 0.111 | Validation loss: 5.077\n",
            "[Epoch 47/50] Training loss: 0.080 | Validation loss: 5.082\n",
            "[Epoch 48/50] Training loss: 0.060 | Validation loss: 5.144\n",
            "[Epoch 49/50] Training loss: 0.076 | Validation loss: 5.284\n",
            "[Epoch 50/50] Training loss: 0.095 | Validation loss: 5.352\n"
          ],
          "name": "stdout"
        },
        {
          "output_type": "display_data",
          "data": {
            "image/png": "[encoded data removed]",
            "text/plain": [
              "<Figure size 432x288 with 1 Axes>"
            ]
          },
          "metadata": {
            "tags": [],
            "needs_background": "light"
          }
        },
        {
          "output_type": "display_data",
          "data": {
            "image/png": "[encoded data removed]",
            "text/plain": [
              "<Figure size 432x288 with 1 Axes>"
            ]
          },
          "metadata": {
            "tags": [],
            "needs_background": "light"
          }
        },
        {
          "output_type": "stream",
          "text": [
            "Evaluation on the validation dataset:\n",
            "Metric Accuracy: 28%\n",
            "Accuracy of plane (0): 43%\n",
            "Accuracy of car   (1): 35%\n",
            "Accuracy of bird  (2): 19%\n",
            "Accuracy of cat   (3): 16%\n",
            "Accuracy of deer  (4): 18%\n",
            "Accuracy of dog   (5): 22%\n",
            "Accuracy of frog  (6): 49%\n",
            "Accuracy of horse (7): 18%\n",
            "Accuracy of ship  (8): 39%\n",
            "Accuracy of truck (9): 25%\n"
          ],
          "name": "stdout"
        }
      ]
    },
    {
      "cell_type": "markdown",
      "metadata": {
        "id": "KEMYRMeR8gA8",
        "colab_type": "text"
      },
      "source": [
        "... # To complete.\n"
      ]
    },
    {
      "cell_type": "markdown",
      "metadata": {
        "id": "UYRPF8m5Ps7p",
        "colab_type": "text"
      },
      "source": [
        "## Performance as a function of the dataset size"
      ]
    },
    {
      "cell_type": "markdown",
      "metadata": {
        "id": "4ILOZAvjPzhB",
        "colab_type": "text"
      },
      "source": [
        "Now, we train the same model on various ratios of the training dataset (e.g., 10% of the total training dataset) while keeping the validation dataset fixed. We want to observe the impact of using a larger training dataset.\n",
        "\n",
        "The following function performs this study given a list of ratio values. It takes as arguments:\n",
        "- **ratio_list**: list of ratio numbers to be considered in the study.\n",
        "- **epochs** (optional): number of training epochs. Default: `5`.\n",
        "- **seed** (optional): seed of the random generator: Default: `1234`.\n",
        "\n",
        "This function generates a plot showing the performance (in terms of accuracy) as a function of the ratio of data used for training the model.\n",
        "\n",
        "It is important to note that by fixing the number of epochs, as the size of the training set increases we perform more parameter updates. Hence, the overall study is not completely fair since we do not train on a fixed number of iterations. However, our goal here is to evaluate the relationship between the performance of a model and the number of examples in the training set."
      ]
    },
    {
      "cell_type": "code",
      "metadata": {
        "id": "ylPD0is-Q7ay",
        "colab_type": "code",
        "colab": {}
      },
      "source": [
        "def performance_study(ratio_list, epochs=5, seed=1234):\n",
        "  \"\"\"\n",
        "  Args:\n",
        "     ratio_list: list of ratio numbers to be considered.\n",
        "     epochs (optional): number of training epochs. Default: 5.\n",
        "     seed (optional): seed of the numpy random generator: Default: 1234.\n",
        "        \n",
        "  Return:\n",
        "     This method does not return anything, but it generates a plot.\n",
        "      \n",
        "  \"\"\"\n",
        "  results = []\n",
        "  for ratio in ratio_list:\n",
        "    select_imgs, select_labels = select_subset_from_dataset(\n",
        "        train_imgs, train_labels, ratio\n",
        "    )\n",
        "    trained_model = training_on_dataset(\n",
        "        select_imgs, select_labels, valid_imgs, valid_labels,\n",
        "        epochs=epochs, batch_size=32,\n",
        "        seed=seed, verbose=False\n",
        "    )\n",
        "    acc, _ = evaluate_classes(\n",
        "        trained_model, valid_imgs, valid_labels, batch_size=32,\n",
        "        verbose=False\n",
        "    )\n",
        "    results.append(acc)\n",
        "  \n",
        "  print('Best accuracy: {:.0%}'.format(max(results)))\n",
        "  plt.plot(ratio_list, results)\n",
        "  plt.title('Model performance on validation set')\n",
        "  plt.xlabel('Training set ratio')\n",
        "  plt.ylabel('Accuracy')\n",
        "  plt.show()\n"
      ],
      "execution_count": 0,
      "outputs": []
    },
    {
      "cell_type": "markdown",
      "metadata": {
        "colab_type": "text",
        "id": "RDZLShKzgUMV"
      },
      "source": [
        "### Exercise\n",
        "\n",
        "Evaluate the performance using the following ratios: `0.01, 0.05, 0.1, 0.25, 0.5, 0.75, 0.9, 1.0`. \n",
        "\n",
        "You can choose the number of epochs you wish for this study. Just have in mind that the higher the number, the longer the time required for the training/study. Therefore, it is recommended to not exceed `epochs=20` for the purpose of this tutorial. As default, it is set to `epochs=5`.\n",
        "\n",
        "Again, by having a fixed number of epochs, the bigger the training set the more often we update the model parameters.\n",
        "\n",
        "What do you conclude?"
      ]
    },
    {
      "cell_type": "code",
      "metadata": {
        "colab_type": "code",
        "id": "jS-MkJ_rprdH",
        "outputId": "ab47a611-3cba-427d-9831-eedab5e999d0",
        "colab": {
          "base_uri": "https://localhost:8080/",
          "height": 312
        }
      },
      "source": [
        "ratio_list = [0.01, 0.05, 0.1, 0.25, 0.5, 0.75, 0.9, 1.0]\n",
        "performance_study(ratio_list, epochs=5) # To complete.\n"
      ],
      "execution_count": 22,
      "outputs": [
        {
          "output_type": "stream",
          "text": [
            "Best accuracy: 61%\n"
          ],
          "name": "stdout"
        },
        {
          "output_type": "display_data",
          "data": {
            "image/png": "[encoded data removed]",
            "text/plain": [
              "<Figure size 432x288 with 1 Axes>"
            ]
          },
          "metadata": {
            "tags": [],
            "needs_background": "light"
          }
        }
      ]
    },
    {
      "cell_type": "markdown",
      "metadata": {
        "id": "6hOajcWPAxrC",
        "colab_type": "text"
      },
      "source": [
        "... # To complete.\n"
      ]
    },
    {
      "cell_type": "markdown",
      "metadata": {
        "id": "rrrNv7Adnj27",
        "colab_type": "text"
      },
      "source": [
        "The parameters of neural networks are initialized at random values. If we don't fix a model seed, the generated random numbers used to initalize these parameters will be different. Try to run the same experiment with a different seed (e.g, `seed=8761`) using the same number of epochs as in the previous exercise. Do you obtain the same result?"
      ]
    },
    {
      "cell_type": "code",
      "metadata": {
        "id": "accW_kKt5TEF",
        "colab_type": "code",
        "outputId": "ea3be19d-ed05-496a-e32a-fc80436c6d39",
        "colab": {
          "base_uri": "https://localhost:8080/",
          "height": 312
        }
      },
      "source": [
        "performance_study(ratio_list, epochs=5, seed=8761) # To complete.\n"
      ],
      "execution_count": 23,
      "outputs": [
        {
          "output_type": "stream",
          "text": [
            "Best accuracy: 64%\n"
          ],
          "name": "stdout"
        },
        {
          "output_type": "display_data",
          "data": {
            "image/png": "[encoded data removed]",
            "text/plain": [
              "<Figure size 432x288 with 1 Axes>"
            ]
          },
          "metadata": {
            "tags": [],
            "needs_background": "light"
          }
        }
      ]
    },
    {
      "cell_type": "markdown",
      "metadata": {
        "id": "_dFQG5ViqzM1",
        "colab_type": "text"
      },
      "source": [
        "## Data augmentation"
      ]
    },
    {
      "cell_type": "markdown",
      "metadata": {
        "id": "cnD2tCAv2QWZ",
        "colab_type": "text"
      },
      "source": [
        "Very often, we are provided with a dataset and there are no means to collect more. In this section, we quickly explore the technique of data augmentation, which consists of altering the images in the training dataset without changing the associated labels. By doing so, it is possible to artificially augment the number of images in our training dataset. For example, we can think of the flipping or the cropping/resizing operations for altering an image in the dataset without modifying its associated label. As a result, by learning on an higher number of images we may observe some performance gains and/or better model generalization. However, since data augmentation is creating artificially new examples from existing ones, the independence assumption is not respected. Thus, we should not use data augmentation for the validation and the test sets."
      ]
    },
    {
      "cell_type": "markdown",
      "metadata": {
        "id": "0PKpTId_3lGI",
        "colab_type": "text"
      },
      "source": [
        "### Exercise\n",
        "\n",
        "Assume that we only have access to 30% of the original training dataset. Train a model with this portion of data and evaluate it on the validation dataset. As the number of examples increases in the training set, we may consider increasing the number of epochs while keeping in mind the overfitting problem. For this exercise, we will use the following arguments:\n",
        "- **epochs**: `15`.\n",
        "- **batch_size**: `32`.\n",
        "- **metrics**: `{'Accuracy': accuracy}`."
      ]
    },
    {
      "cell_type": "code",
      "metadata": {
        "id": "6pBFLLmxrCC8",
        "colab_type": "code",
        "outputId": "e1fa3db5-a056-4b01-feb6-0ea18258cadd",
        "colab": {
          "base_uri": "https://localhost:8080/",
          "height": 1000
        }
      },
      "source": [
        "# select the data\n",
        "select_imgs, select_labels = select_subset_from_dataset(train_imgs, train_labels, 0.3) # To complete.\n",
        "\n",
        "# training on selected data\n",
        "model50 = training_on_dataset(select_imgs, select_labels, valid_imgs, valid_labels, epochs=15, batch_size=32, metrics={'Accuracy': accuracy}) # To complete.\n",
        "\n",
        "# evaluate on the validation dataset\n",
        "_ = evaluate_classes(model50, valid_imgs, valid_labels, batch_size=32, metrics={'Accuracy': accuracy}) # To complete.\n"
      ],
      "execution_count": 24,
      "outputs": [
        {
          "output_type": "stream",
          "text": [
            "[Epoch 1/15] Training loss: 1.867 | Validation loss: 1.710\n",
            "[Epoch 2/15] Training loss: 1.551 | Validation loss: 1.517\n",
            "[Epoch 3/15] Training loss: 1.416 | Validation loss: 1.414\n",
            "[Epoch 4/15] Training loss: 1.332 | Validation loss: 1.424\n",
            "[Epoch 5/15] Training loss: 1.252 | Validation loss: 1.360\n",
            "[Epoch 6/15] Training loss: 1.185 | Validation loss: 1.308\n",
            "[Epoch 7/15] Training loss: 1.114 | Validation loss: 1.342\n",
            "[Epoch 8/15] Training loss: 1.040 | Validation loss: 1.345\n",
            "[Epoch 9/15] Training loss: 0.988 | Validation loss: 1.349\n",
            "[Epoch 10/15] Training loss: 0.921 | Validation loss: 1.348\n",
            "[Epoch 11/15] Training loss: 0.862 | Validation loss: 1.417\n",
            "[Epoch 12/15] Training loss: 0.807 | Validation loss: 1.429\n",
            "[Epoch 13/15] Training loss: 0.736 | Validation loss: 1.513\n",
            "[Epoch 14/15] Training loss: 0.679 | Validation loss: 1.574\n",
            "[Epoch 15/15] Training loss: 0.628 | Validation loss: 1.636\n"
          ],
          "name": "stdout"
        },
        {
          "output_type": "display_data",
          "data": {
            "image/png": "[encoded data removed]",
            "text/plain": [
              "<Figure size 432x288 with 1 Axes>"
            ]
          },
          "metadata": {
            "tags": [],
            "needs_background": "light"
          }
        },
        {
          "output_type": "display_data",
          "data": {
            "image/png": "[encoded data removed]",
            "text/plain": [
              "<Figure size 432x288 with 1 Axes>"
            ]
          },
          "metadata": {
            "tags": [],
            "needs_background": "light"
          }
        },
        {
          "output_type": "stream",
          "text": [
            "Evaluation on the validation dataset:\n",
            "Metric Accuracy: 54%\n",
            "Accuracy of plane (0): 56%\n",
            "Accuracy of car   (1): 71%\n",
            "Accuracy of bird  (2): 46%\n",
            "Accuracy of cat   (3): 40%\n",
            "Accuracy of deer  (4): 34%\n",
            "Accuracy of dog   (5): 38%\n",
            "Accuracy of frog  (6): 62%\n",
            "Accuracy of horse (7): 63%\n",
            "Accuracy of ship  (8): 71%\n",
            "Accuracy of truck (9): 58%\n"
          ],
          "name": "stdout"
        }
      ]
    },
    {
      "cell_type": "markdown",
      "metadata": {
        "id": "UdeKH-JsrcPl",
        "colab_type": "text"
      },
      "source": [
        "### Exercise\n",
        "\n",
        "The following code defines a transformation, using the PyTorch framework. With the random resized crop operation, a crop of random size (0.7 to 1.0) of the original image is made and finally resized to a 32 x 32 image. The `transforms` operations are applied to the original images at every mini-batch generation. This leaves the images of your dataset unchanged, only the mini-batch images are copied and transformed every iteration."
      ]
    },
    {
      "cell_type": "code",
      "metadata": {
        "id": "j5h0bzG9rh_T",
        "colab_type": "code",
        "colab": {}
      },
      "source": [
        "import torchvision.transforms as transforms\n",
        "\n",
        "\n",
        "transformations = transforms.Compose([\n",
        "    transforms.Normalize((-1., -1., -1.), (2., 2., 2.)),\n",
        "    transforms.ToPILImage(),\n",
        "    transforms.RandomResizedCrop((32, 32), scale=(0.7, 1.0)),\n",
        "    transforms.ToTensor(),\n",
        "    transforms.Normalize((0.5, 0.5, 0.5), (0.5, 0.5, 0.5)),\n",
        "])"
      ],
      "execution_count": 0,
      "outputs": []
    },
    {
      "cell_type": "markdown",
      "metadata": {
        "id": "110l_poa5AUi",
        "colab_type": "text"
      },
      "source": [
        "This time, train a new model using the same architecture by applying data augmentation on the extracted 30% of the training dataset. Evaluate your model and compare your results with those from the previous exercise. Use the following arguments:\n",
        "- **epochs**: `15`.\n",
        "- **batch_size**: `32`.\n",
        "- **metrics**: `{'Accuracy': accuracy}`.\n",
        "\n",
        "Note that you can use the argument `transformations` of the `training_on_dataset` method to perform data augmentation during training.\n",
        "\n",
        "What do you observe?"
      ]
    },
    {
      "cell_type": "code",
      "metadata": {
        "id": "-JHCgdzprnG9",
        "colab_type": "code",
        "outputId": "29d90255-ba7f-4ea8-b7ee-60e96c39471d",
        "colab": {
          "base_uri": "https://localhost:8080/",
          "height": 1000
        }
      },
      "source": [
        "# training on selected data with data augmentation techniques\n",
        "model50A = training_on_dataset(select_imgs, select_labels, valid_imgs, valid_labels,  epochs=15, batch_size=32, transformations=transformations, metrics={'Accuracy': accuracy}) # To complete.\n",
        "\n",
        "# evaluate on the validation dataset\n",
        "_ = evaluate_classes(model50A, valid_imgs, valid_labels, batch_size=32, metrics={'Accuracy': accuracy}) # To complete.\n"
      ],
      "execution_count": 26,
      "outputs": [
        {
          "output_type": "stream",
          "text": [
            "[Epoch 1/15] Training loss: 1.934 | Validation loss: 1.805\n",
            "[Epoch 2/15] Training loss: 1.684 | Validation loss: 1.650\n",
            "[Epoch 3/15] Training loss: 1.563 | Validation loss: 1.471\n",
            "[Epoch 4/15] Training loss: 1.495 | Validation loss: 1.437\n",
            "[Epoch 5/15] Training loss: 1.438 | Validation loss: 1.442\n",
            "[Epoch 6/15] Training loss: 1.396 | Validation loss: 1.361\n",
            "[Epoch 7/15] Training loss: 1.360 | Validation loss: 1.382\n",
            "[Epoch 8/15] Training loss: 1.321 | Validation loss: 1.345\n",
            "[Epoch 9/15] Training loss: 1.291 | Validation loss: 1.327\n",
            "[Epoch 10/15] Training loss: 1.268 | Validation loss: 1.297\n",
            "[Epoch 11/15] Training loss: 1.242 | Validation loss: 1.273\n",
            "[Epoch 12/15] Training loss: 1.205 | Validation loss: 1.271\n",
            "[Epoch 13/15] Training loss: 1.183 | Validation loss: 1.254\n",
            "[Epoch 14/15] Training loss: 1.165 | Validation loss: 1.270\n",
            "[Epoch 15/15] Training loss: 1.136 | Validation loss: 1.264\n"
          ],
          "name": "stdout"
        },
        {
          "output_type": "display_data",
          "data": {
            "image/png": "[encoded data removed]",
            "text/plain": [
              "<Figure size 432x288 with 1 Axes>"
            ]
          },
          "metadata": {
            "tags": [],
            "needs_background": "light"
          }
        },
        {
          "output_type": "display_data",
          "data": {
            "image/png": "[encoded data removed]",
            "text/plain": [
              "<Figure size 432x288 with 1 Axes>"
            ]
          },
          "metadata": {
            "tags": [],
            "needs_background": "light"
          }
        },
        {
          "output_type": "stream",
          "text": [
            "Evaluation on the validation dataset:\n",
            "Metric Accuracy: 56%\n",
            "Accuracy of plane (0): 58%\n",
            "Accuracy of car   (1): 76%\n",
            "Accuracy of bird  (2): 42%\n",
            "Accuracy of cat   (3): 34%\n",
            "Accuracy of deer  (4): 35%\n",
            "Accuracy of dog   (5): 54%\n",
            "Accuracy of frog  (6): 63%\n",
            "Accuracy of horse (7): 59%\n",
            "Accuracy of ship  (8): 70%\n",
            "Accuracy of truck (9): 65%\n"
          ],
          "name": "stdout"
        }
      ]
    },
    {
      "cell_type": "markdown",
      "metadata": {
        "id": "KP24gLYYIia_",
        "colab_type": "text"
      },
      "source": [
        "... # To complete.\n"
      ]
    },
    {
      "cell_type": "markdown",
      "metadata": {
        "id": "4BRbANE0mjLY",
        "colab_type": "text"
      },
      "source": [
        "# Unbalanced datasets"
      ]
    },
    {
      "cell_type": "markdown",
      "metadata": {
        "id": "SfpH0Cx1NA-z",
        "colab_type": "text"
      },
      "source": [
        "## What is an unbalanced dataset?"
      ]
    },
    {
      "cell_type": "markdown",
      "metadata": {
        "id": "bDuyTs_smng1",
        "colab_type": "text"
      },
      "source": [
        "Up to now, the training dataset contained about the same number of images for each label. In this section, we explore the impact of training models on an unbalanced dataset, which happens when each class does not make up an equal portion of your dataset. \n",
        "\n",
        "The following function selects a portion of data from a given dataset while providing a defined label distribution. It takes as input six arguments:\n",
        "- **imgs**: numpy array representing the image set from which the selection is made.\n",
        "- **labels**: labels associated with the provided image set.\n",
        "- **label_dist**: the distribution of labels to be selected, represented by a dict of `{label: value}`.\n",
        "- **ratio** (optional): portion of the data that will be selected. Default: `0.1`.\n",
        "- **shuffle** (optional): whether or not the data need to be shuffled before the selection is made. Default: `True`.\n",
        "- **seed** (optional): seed of the random generator: Default: `1234`.\n",
        "\n",
        "It provides as output 2 elements:\n",
        "- **select_imgs**: a numpy array of the selected images.\n",
        "- **select_labels**: labels associated with the selected images.\n"
      ]
    },
    {
      "cell_type": "code",
      "metadata": {
        "id": "yx4E8E5TLr2H",
        "colab_type": "code",
        "colab": {}
      },
      "source": [
        "def select_subset_from_dataset_with_label_dist(\n",
        "    imgs, labels, label_dist, ratio=0.1, shuffle=True, seed=1234):\n",
        "  \"\"\"\n",
        "  Args:\n",
        "     imgs: numpy array representing the image set from which \n",
        "        the selection is made.\n",
        "     labels: the labels associated with the provided images.\n",
        "     label_dist: the distribution of labels to select.\n",
        "     ratio (optional): portion of the data to be selected. Default: 0.1.\n",
        "     shuffle (optional): Whether or not to shuffle the data. Default: True.\n",
        "     seed (optional): seed of the numpy random generator: Default: 1234.\n",
        "        \n",
        "  Return:\n",
        "     A tuple of 2 elements (select_imgs, select_labels)\n",
        "     where:\n",
        "        select_imgs: a numpy array of the selected images.\n",
        "        select_labels: labels associated with the selected images.\n",
        "      \n",
        "  \"\"\"\n",
        "  if isinstance(label_dist, (list, tuple)):\n",
        "    label_dist = {a:v for a,v in enumerate(label_dist)}\n",
        "  sum_dist = sum(label_dist.values())\n",
        "  for lab in label_dist.keys():\n",
        "    label_dist[lab] /= sum_dist\n",
        "    \n",
        "  tgts = np.array(labels)\n",
        "  num_indices = int(ratio*len(labels))\n",
        "  num_idx_lab = {a: int(label_dist[a]*num_indices) for a in label_dist.keys()}\n",
        "  \n",
        "  sel_ind = []\n",
        "  \n",
        "  if shuffle:\n",
        "    np.random.seed(seed)  # Set the random seed of numpy.\n",
        "\n",
        "  for a in num_idx_lab.keys():\n",
        "    idx = np.where(tgts==a)\n",
        "    idx = idx[0]\n",
        "    if shuffle:\n",
        "      idx = np.random.permutation(idx)\n",
        "    num = min(num_idx_lab[a], len(idx))\n",
        "    idx = idx[0:num]\n",
        "    sel_ind.extend(idx)\n",
        "    \n",
        "  if shuffle:\n",
        "    sel_ind = np.random.permutation(sel_ind)\n",
        "  else:\n",
        "    sel_ind.sort()\n",
        "    sel_ind = np.array(sel_ind)\n",
        "    \n",
        "  select_imgs = imgs[sel_ind, :]\n",
        "  select_labels = tgts[sel_ind].tolist()\n",
        "  \n",
        "  return select_imgs, select_labels\n"
      ],
      "execution_count": 0,
      "outputs": []
    },
    {
      "cell_type": "markdown",
      "metadata": {
        "colab_type": "text",
        "id": "tQO9ejo57_G1"
      },
      "source": [
        "### Exercise\n",
        "\n",
        "Using the function defined above with its default parameters, extract 30% of the data from the original training dataset while providing the following label distribution:\n",
        "- **0**: `0.4`.\n",
        "- **1**: `0.1`.\n",
        "- **2**: `0.05`.\n",
        "- **3**: `0.01`.\n",
        "- **4**: `0.2`.\n",
        "- **5**: `0.14`.\n",
        "- **6**: `0.02`.\n",
        "- **7**: `0.005`.\n",
        "- **8**: `0.045`.\n",
        "- **9**: `0.03`.\n",
        "\n",
        "In addition, compute the histogram of the resulting dataset.\n",
        "\n",
        "Note that we will first train our model on an unbalanced training dataset, but evaluate it on the balanced validation set that we’ve been using since the beginning of this tutorial. We’ll then build a validation set with a distribution that matches that of the training set.\n"
      ]
    },
    {
      "cell_type": "code",
      "metadata": {
        "id": "-irncrQq4MD-",
        "colab_type": "code",
        "outputId": "4f25178e-cdd9-4757-e36f-87e36725e718",
        "colab": {
          "base_uri": "https://localhost:8080/",
          "height": 295
        }
      },
      "source": [
        "label_distribution = {\n",
        "    0: 0.4,\n",
        "    1: 0.1,\n",
        "    2: 0.05,\n",
        "    3: 0.01,\n",
        "    4: 0.2, \n",
        "    5: 0.14,\n",
        "    6: 0.02,\n",
        "    7: 0.005,\n",
        "    8: 0.045,\n",
        "    9: 0.03\n",
        "}\n",
        "\n",
        "# select data according to a provided distribution\n",
        "select_imgs, select_labels = select_subset_from_dataset_with_label_dist(train_imgs, train_labels, label_distribution, 0.3) # To complete.\n",
        "\n",
        "# plot the histogram of the selected labels\n",
        "plot_dataset_histogram(select_labels, 'Train set label distribution') # To complete.\n"
      ],
      "execution_count": 28,
      "outputs": [
        {
          "output_type": "display_data",
          "data": {
            "image/png": "[encoded data removed]",
            "text/plain": [
              "<Figure size 432x288 with 1 Axes>"
            ]
          },
          "metadata": {
            "tags": [],
            "needs_background": "light"
          }
        }
      ]
    },
    {
      "cell_type": "markdown",
      "metadata": {
        "id": "k0Z9BMTZN36h",
        "colab_type": "text"
      },
      "source": [
        "## Is accuracy a good metric for an unbalanced dataset?"
      ]
    },
    {
      "cell_type": "markdown",
      "metadata": {
        "colab_type": "text",
        "id": "47WPFK9zOaxz"
      },
      "source": [
        "### Exercise\n",
        "\n",
        "Train a model using your new extracted training dataset and evaluate its performance on the validation dataset. Use the following arguments:\n",
        "- **epochs**: `15`.\n",
        "- **batch_size**: `32`.\n",
        "- **metrics**: `{'Accuracy': accuracy}`.\n",
        "\n",
        "What do you observe in terms of differences between the train accuracy and the valid accuracy? What do you observe regarding the accuracies of less frequent labels?\n"
      ]
    },
    {
      "cell_type": "code",
      "metadata": {
        "id": "QxnLmJWo-Xze",
        "colab_type": "code",
        "outputId": "4ed20f8c-5f8d-4a32-c79b-bf8b14e43b3a",
        "colab": {
          "base_uri": "https://localhost:8080/",
          "height": 1000
        }
      },
      "source": [
        "# training on selected data\n",
        "modelUnbal = training_on_dataset(select_imgs, select_labels, valid_imgs, valid_labels, epochs=15, batch_size=32, metrics={'Accuracy': accuracy}) # To complete.\n",
        "\n",
        "# evaluate on the validation dataset\n",
        "_ = evaluate_classes(modelUnbal, valid_imgs, valid_labels, batch_size=32, metrics={'Accuracy': accuracy}) # To complete.\n"
      ],
      "execution_count": 29,
      "outputs": [
        {
          "output_type": "stream",
          "text": [
            "[Epoch 1/15] Training loss: 1.469 | Validation loss: 2.250\n",
            "[Epoch 2/15] Training loss: 1.188 | Validation loss: 2.279\n",
            "[Epoch 3/15] Training loss: 1.086 | Validation loss: 2.129\n",
            "[Epoch 4/15] Training loss: 1.022 | Validation loss: 2.017\n",
            "[Epoch 5/15] Training loss: 0.971 | Validation loss: 2.163\n",
            "[Epoch 6/15] Training loss: 0.910 | Validation loss: 2.105\n",
            "[Epoch 7/15] Training loss: 0.861 | Validation loss: 2.129\n",
            "[Epoch 8/15] Training loss: 0.819 | Validation loss: 1.981\n",
            "[Epoch 9/15] Training loss: 0.764 | Validation loss: 2.073\n",
            "[Epoch 10/15] Training loss: 0.730 | Validation loss: 1.923\n",
            "[Epoch 11/15] Training loss: 0.676 | Validation loss: 1.951\n",
            "[Epoch 12/15] Training loss: 0.627 | Validation loss: 1.907\n",
            "[Epoch 13/15] Training loss: 0.590 | Validation loss: 2.249\n",
            "[Epoch 14/15] Training loss: 0.550 | Validation loss: 2.148\n",
            "[Epoch 15/15] Training loss: 0.506 | Validation loss: 2.472\n"
          ],
          "name": "stdout"
        },
        {
          "output_type": "display_data",
          "data": {
            "image/png": "[encoded data removed]",
            "text/plain": [
              "<Figure size 432x288 with 1 Axes>"
            ]
          },
          "metadata": {
            "tags": [],
            "needs_background": "light"
          }
        },
        {
          "output_type": "display_data",
          "data": {
            "image/png": "[encoded data removed]",
            "text/plain": [
              "<Figure size 432x288 with 1 Axes>"
            ]
          },
          "metadata": {
            "tags": [],
            "needs_background": "light"
          }
        },
        {
          "output_type": "stream",
          "text": [
            "Evaluation on the validation dataset:\n",
            "Metric Accuracy: 42%\n",
            "Accuracy of plane (0): 87%\n",
            "Accuracy of car   (1): 76%\n",
            "Accuracy of bird  (2): 24%\n",
            "Accuracy of cat   (3): 0%\n",
            "Accuracy of deer  (4): 67%\n",
            "Accuracy of dog   (5): 60%\n",
            "Accuracy of frog  (6): 30%\n",
            "Accuracy of horse (7): 8%\n",
            "Accuracy of ship  (8): 33%\n",
            "Accuracy of truck (9): 34%\n"
          ],
          "name": "stdout"
        }
      ]
    },
    {
      "cell_type": "markdown",
      "metadata": {
        "id": "6NruL0f6L-Ps",
        "colab_type": "text"
      },
      "source": [
        "... # To complete.\n"
      ]
    },
    {
      "cell_type": "markdown",
      "metadata": {
        "colab_type": "text",
        "id": "6XexaV-HRfqC"
      },
      "source": [
        "### Exercise\n",
        "\n",
        "When we have an unbalanced dataset, the F1 score is usually a recommended performance metric as it can be interpreted as a weighted average of the [Precision and Recall scores](https://en.wikipedia.org/wiki/Precision_and_recall).\n",
        "\n",
        "Train a model using the extracted training dataset and evaluate its performance on the validation dataset. Use the same arguments as in the last exercise, but add the F1 score:\n",
        "- **epochs**: `15`.\n",
        "- **batch_size**: `32`.\n",
        "- **metrics**: `{'Accuracy': accuracy, 'F1': f1_score}`.\n",
        "\n",
        "What differences do you observe in terms of performance metrics between the training and validation datasets?\n"
      ]
    },
    {
      "cell_type": "code",
      "metadata": {
        "id": "3Z44t-ro_Df0",
        "colab_type": "code",
        "outputId": "cd5cb0b8-db73-4e3c-f14b-93c49318a0d9",
        "colab": {
          "base_uri": "https://localhost:8080/",
          "height": 1000
        }
      },
      "source": [
        "# training on selected data\n",
        "modelUnbal = training_on_dataset(select_imgs, select_labels, valid_imgs, valid_labels, epochs=15, batch_size=32, metrics={'Accuracy':accuracy, 'F1':f1_score}) # To complete.\n",
        "\n",
        "# evaluate on the validation dataset\n",
        "_ = evaluate_classes(modelUnbal, valid_imgs, valid_labels, batch_size=32, metrics={'Accuracy':accuracy, 'F1':f1_score}) # To complete.\n"
      ],
      "execution_count": 30,
      "outputs": [
        {
          "output_type": "stream",
          "text": [
            "[Epoch 1/15] Training loss: 1.470 | Validation loss: 2.283\n",
            "[Epoch 2/15] Training loss: 1.192 | Validation loss: 2.287\n",
            "[Epoch 3/15] Training loss: 1.093 | Validation loss: 2.122\n",
            "[Epoch 4/15] Training loss: 1.028 | Validation loss: 2.039\n",
            "[Epoch 5/15] Training loss: 0.979 | Validation loss: 2.183\n",
            "[Epoch 6/15] Training loss: 0.920 | Validation loss: 2.094\n",
            "[Epoch 7/15] Training loss: 0.870 | Validation loss: 2.060\n",
            "[Epoch 8/15] Training loss: 0.828 | Validation loss: 1.993\n",
            "[Epoch 9/15] Training loss: 0.774 | Validation loss: 2.088\n",
            "[Epoch 10/15] Training loss: 0.740 | Validation loss: 2.006\n",
            "[Epoch 11/15] Training loss: 0.687 | Validation loss: 1.997\n",
            "[Epoch 12/15] Training loss: 0.646 | Validation loss: 1.907\n",
            "[Epoch 13/15] Training loss: 0.601 | Validation loss: 2.190\n",
            "[Epoch 14/15] Training loss: 0.560 | Validation loss: 2.008\n",
            "[Epoch 15/15] Training loss: 0.519 | Validation loss: 2.412\n"
          ],
          "name": "stdout"
        },
        {
          "output_type": "display_data",
          "data": {
            "image/png": "[encoded data removed]",
            "text/plain": [
              "<Figure size 432x288 with 1 Axes>"
            ]
          },
          "metadata": {
            "tags": [],
            "needs_background": "light"
          }
        },
        {
          "output_type": "display_data",
          "data": {
            "image/png": "[encoded data removed]",
            "text/plain": [
              "<Figure size 432x288 with 1 Axes>"
            ]
          },
          "metadata": {
            "tags": [],
            "needs_background": "light"
          }
        },
        {
          "output_type": "display_data",
          "data": {
            "image/png": "[encoded data removed]",
            "text/plain": [
              "<Figure size 432x288 with 1 Axes>"
            ]
          },
          "metadata": {
            "tags": [],
            "needs_background": "light"
          }
        },
        {
          "output_type": "stream",
          "text": [
            "Evaluation on the validation dataset:\n",
            "Metric Accuracy: 43%\n",
            "Metric F1: 38%\n",
            "Accuracy of plane (0): 87%\n",
            "Accuracy of car   (1): 73%\n",
            "Accuracy of bird  (2): 21%\n",
            "Accuracy of cat   (3): 0%\n",
            "Accuracy of deer  (4): 72%\n",
            "Accuracy of dog   (5): 64%\n",
            "Accuracy of frog  (6): 29%\n",
            "Accuracy of horse (7): 4%\n",
            "Accuracy of ship  (8): 45%\n",
            "Accuracy of truck (9): 33%\n"
          ],
          "name": "stdout"
        }
      ]
    },
    {
      "cell_type": "markdown",
      "metadata": {
        "id": "6q7fPgwjmGWi",
        "colab_type": "text"
      },
      "source": [
        "... # To complete.\n"
      ]
    },
    {
      "cell_type": "markdown",
      "metadata": {
        "id": "i7-qY_oH23sh",
        "colab_type": "text"
      },
      "source": [
        "### Exercise\n",
        "\n",
        "Now imagine that the validation set is as unbalanced as the training set. Is the observation made previously still valid?\n",
        "\n",
        "To answer this question, extract 30% of the original validation dataset with the above label distribution and use it as the new validation set for this exercise."
      ]
    },
    {
      "cell_type": "code",
      "metadata": {
        "id": "lOAV8z1y7vqt",
        "colab_type": "code",
        "colab": {
          "base_uri": "https://localhost:8080/",
          "height": 1000
        },
        "outputId": "d3480c20-524c-494b-8029-ebc28903aba5"
      },
      "source": [
        "# select 30% of the validation dataset with the provided label distribution\n",
        "unb_valid_imgs, unb_valid_labels = select_subset_from_dataset_with_label_dist(valid_imgs, valid_labels, label_distribution, 0.3) # To complete.\n",
        "\n",
        "\n",
        "# training on using the unbalanced training and validation sets\n",
        "modelUnbal = training_on_dataset(select_imgs, select_labels, unb_valid_imgs, unb_valid_labels, epochs=15, batch_size=32, metrics={'Accuracy':accuracy, 'F1':f1_score}) # To complete.\n",
        "\n",
        "# evaluate on the unbalanced validation dataset\n",
        "_ = evaluate_classes(modelUnbal, unb_valid_imgs, unb_valid_labels, batch_size=32, metrics={'Accuracy':accuracy, 'F1':f1_score}) # To complete.\n"
      ],
      "execution_count": 31,
      "outputs": [
        {
          "output_type": "stream",
          "text": [
            "[Epoch 1/15] Training loss: 1.468 | Validation loss: 1.257\n",
            "[Epoch 2/15] Training loss: 1.189 | Validation loss: 1.137\n",
            "[Epoch 3/15] Training loss: 1.092 | Validation loss: 1.051\n",
            "[Epoch 4/15] Training loss: 1.026 | Validation loss: 1.040\n",
            "[Epoch 5/15] Training loss: 0.980 | Validation loss: 1.021\n",
            "[Epoch 6/15] Training loss: 0.922 | Validation loss: 0.988\n",
            "[Epoch 7/15] Training loss: 0.872 | Validation loss: 0.969\n",
            "[Epoch 8/15] Training loss: 0.828 | Validation loss: 0.951\n",
            "[Epoch 9/15] Training loss: 0.775 | Validation loss: 1.022\n",
            "[Epoch 10/15] Training loss: 0.741 | Validation loss: 0.928\n",
            "[Epoch 11/15] Training loss: 0.686 | Validation loss: 0.919\n",
            "[Epoch 12/15] Training loss: 0.640 | Validation loss: 0.951\n",
            "[Epoch 13/15] Training loss: 0.602 | Validation loss: 0.937\n",
            "[Epoch 14/15] Training loss: 0.561 | Validation loss: 0.952\n",
            "[Epoch 15/15] Training loss: 0.512 | Validation loss: 1.047\n"
          ],
          "name": "stdout"
        },
        {
          "output_type": "display_data",
          "data": {
            "image/png": "[encoded data removed]",
            "text/plain": [
              "<Figure size 432x288 with 1 Axes>"
            ]
          },
          "metadata": {
            "tags": [],
            "needs_background": "light"
          }
        },
        {
          "output_type": "display_data",
          "data": {
            "image/png": "[encoded data removed]",
            "text/plain": [
              "<Figure size 432x288 with 1 Axes>"
            ]
          },
          "metadata": {
            "tags": [],
            "needs_background": "light"
          }
        },
        {
          "output_type": "display_data",
          "data": {
            "image/png": "[encoded data removed]",
            "text/plain": [
              "<Figure size 432x288 with 1 Axes>"
            ]
          },
          "metadata": {
            "tags": [],
            "needs_background": "light"
          }
        },
        {
          "output_type": "stream",
          "text": [
            "Evaluation on the validation dataset:\n",
            "Metric Accuracy: 68%\n",
            "Metric F1: 43%\n",
            "Accuracy of plane (0): 84%\n",
            "Accuracy of car   (1): 72%\n",
            "Accuracy of bird  (2): 20%\n",
            "Accuracy of cat   (3): 0%\n",
            "Accuracy of deer  (4): 73%\n",
            "Accuracy of dog   (5): 60%\n",
            "Accuracy of frog  (6): 40%\n",
            "Accuracy of horse (7): 0%\n",
            "Accuracy of ship  (8): 49%\n",
            "Accuracy of truck (9): 33%\n"
          ],
          "name": "stdout"
        }
      ]
    },
    {
      "cell_type": "markdown",
      "metadata": {
        "id": "R3CbcmNLO4mQ",
        "colab_type": "text"
      },
      "source": [
        "... # To complete.\n"
      ]
    },
    {
      "cell_type": "markdown",
      "metadata": {
        "id": "DdwjfGNmTST_",
        "colab_type": "text"
      },
      "source": [
        "## Dealing with unbalanced datasets"
      ]
    },
    {
      "cell_type": "markdown",
      "metadata": {
        "id": "vz8TGOohTcJ_",
        "colab_type": "text"
      },
      "source": [
        "One way to mitigate the effect of an unbalanced dataset during the training process is to penalize the model when it makes classification errors on less frequent classes. A way to achieve this is to assign importance weights to labels that are inversely proportional to their density within the dataset."
      ]
    },
    {
      "cell_type": "markdown",
      "metadata": {
        "colab_type": "text",
        "id": "E3iJ_-vWVG9Y"
      },
      "source": [
        "### Exercise\n",
        "\n",
        "Compute the importance weights of each label using the label distribution provided at the previous section.\n"
      ]
    },
    {
      "cell_type": "code",
      "metadata": {
        "id": "UiS2HFH9IbNe",
        "colab_type": "code",
        "colab": {
          "base_uri": "https://localhost:8080/",
          "height": 190
        },
        "outputId": "241e5968-1c61-43d2-cbf5-f592fd5d230c"
      },
      "source": [
        "label_weights = [1.0/label_distribution[a] for a in range(10)] # To complete.\n",
        "\n",
        "for i, w in enumerate(label_weights):\n",
        "  print('Importance weight for {:<5s} ({}): {:.1f}'.format(classe_names[i], i, w))"
      ],
      "execution_count": 32,
      "outputs": [
        {
          "output_type": "stream",
          "text": [
            "Importance weight for plane (0): 2.5\n",
            "Importance weight for car   (1): 10.0\n",
            "Importance weight for bird  (2): 20.0\n",
            "Importance weight for cat   (3): 100.0\n",
            "Importance weight for deer  (4): 5.0\n",
            "Importance weight for dog   (5): 7.1\n",
            "Importance weight for frog  (6): 50.0\n",
            "Importance weight for horse (7): 200.0\n",
            "Importance weight for ship  (8): 22.2\n",
            "Importance weight for truck (9): 33.3\n"
          ],
          "name": "stdout"
        }
      ]
    },
    {
      "cell_type": "markdown",
      "metadata": {
        "colab_type": "text",
        "id": "ntkItzYLVN8I"
      },
      "source": [
        "### Exercise\n",
        "\n",
        "Using the importance weights computed above, train a model using the extracted training dataset and evaluate its performance on the original validation dataset. For the sake of fair comparisons, use the same arguments as in the previous exercise:\n",
        "- **epochs**: `15`.\n",
        "- **batch_size**: `32`.\n",
        "- **metrics**: `{'Accuracy': accuracy, 'F1': f1_score}`.\n",
        "\n",
        "Note that the importance weights could be passed to the training method using the argument `label_weights`.\n",
        "\n",
        "What do you observe?\n"
      ]
    },
    {
      "cell_type": "code",
      "metadata": {
        "id": "ACbafl1BGgTw",
        "colab_type": "code",
        "colab": {
          "base_uri": "https://localhost:8080/",
          "height": 1000
        },
        "outputId": "e8ad1490-ff9e-44cc-b580-b56207f5f2eb"
      },
      "source": [
        "# training on selected data\n",
        "modelUnbal2 = training_on_dataset(select_imgs, select_labels, valid_imgs, valid_labels, epochs=15, batch_size=32, metrics={'Accuracy':accuracy, 'F1':f1_score}, label_weights=label_weights) # To complete.\n",
        "\n",
        "# evaluate on the validation dataset\n",
        "_ = evaluate_classes(modelUnbal2, valid_imgs, valid_labels, batch_size=32, metrics={'Accuracy':accuracy, 'F1':f1_score}) # To complete.\n"
      ],
      "execution_count": 33,
      "outputs": [
        {
          "output_type": "stream",
          "text": [
            "[Epoch 1/15] Training loss: 1.977 | Validation loss: 2.134\n",
            "[Epoch 2/15] Training loss: 1.716 | Validation loss: 2.029\n",
            "[Epoch 3/15] Training loss: 1.581 | Validation loss: 1.851\n",
            "[Epoch 4/15] Training loss: 1.497 | Validation loss: 1.578\n",
            "[Epoch 5/15] Training loss: 1.408 | Validation loss: 1.959\n",
            "[Epoch 6/15] Training loss: 1.324 | Validation loss: 1.986\n",
            "[Epoch 7/15] Training loss: 1.234 | Validation loss: 1.967\n",
            "[Epoch 8/15] Training loss: 1.186 | Validation loss: 1.934\n",
            "[Epoch 9/15] Training loss: 1.078 | Validation loss: 3.025\n",
            "[Epoch 10/15] Training loss: 1.004 | Validation loss: 2.704\n",
            "[Epoch 11/15] Training loss: 0.909 | Validation loss: 3.061\n",
            "[Epoch 12/15] Training loss: 0.840 | Validation loss: 3.015\n",
            "[Epoch 13/15] Training loss: 0.751 | Validation loss: 4.561\n",
            "[Epoch 14/15] Training loss: 0.689 | Validation loss: 4.346\n",
            "[Epoch 15/15] Training loss: 0.647 | Validation loss: 4.588\n"
          ],
          "name": "stdout"
        },
        {
          "output_type": "display_data",
          "data": {
            "image/png": "[encoded data removed]",
            "text/plain": [
              "<Figure size 432x288 with 1 Axes>"
            ]
          },
          "metadata": {
            "tags": [],
            "needs_background": "light"
          }
        },
        {
          "output_type": "display_data",
          "data": {
            "image/png": "[encoded data removed]",
            "text/plain": [
              "<Figure size 432x288 with 1 Axes>"
            ]
          },
          "metadata": {
            "tags": [],
            "needs_background": "light"
          }
        },
        {
          "output_type": "display_data",
          "data": {
            "image/png": "[encoded data removed]",
            "text/plain": [
              "<Figure size 432x288 with 1 Axes>"
            ]
          },
          "metadata": {
            "tags": [],
            "needs_background": "light"
          }
        },
        {
          "output_type": "stream",
          "text": [
            "Evaluation on the validation dataset:\n",
            "Metric Accuracy: 45%\n",
            "Metric F1: 44%\n",
            "Accuracy of plane (0): 53%\n",
            "Accuracy of car   (1): 68%\n",
            "Accuracy of bird  (2): 29%\n",
            "Accuracy of cat   (3): 16%\n",
            "Accuracy of deer  (4): 64%\n",
            "Accuracy of dog   (5): 46%\n",
            "Accuracy of frog  (6): 47%\n",
            "Accuracy of horse (7): 17%\n",
            "Accuracy of ship  (8): 68%\n",
            "Accuracy of truck (9): 42%\n"
          ],
          "name": "stdout"
        }
      ]
    },
    {
      "cell_type": "markdown",
      "metadata": {
        "id": "V5w8vbPPmaV6",
        "colab_type": "text"
      },
      "source": [
        "... # To complete.\n"
      ]
    },
    {
      "cell_type": "markdown",
      "metadata": {
        "id": "w4QJ0cBCe483",
        "colab_type": "text"
      },
      "source": [
        "# Reproducibility"
      ]
    },
    {
      "cell_type": "markdown",
      "metadata": {
        "id": "rfk8gF1pG8oo",
        "colab_type": "text"
      },
      "source": [
        "We have seen that there is place for a lot of randomness in machine learning experiments, specifically when:\n",
        "- splitting an original dataset into training/validation/test sets.\n",
        "- initializing the parameters of a model.\n",
        "- splitting a training set into batches to train a model.\n",
        "\n",
        "Therefore, we normally get different results each time we run the same experiment. To allow reproducibility of your results, it is required to fix the **random seed** before creating each dataset and model. Hence, to be reproducible it is best practice to manually set:\n",
        "\n",
        "1. Python pseudorandom number generator at a fixed value:\n",
        "```\n",
        "import random\n",
        "random.seed(seed_value)\n",
        "```\n",
        "\n",
        "2. NumPy pseudorandom number generator at a fixed value:\n",
        "```\n",
        "import numpy as np\n",
        "np.random.seed(seed_value)\n",
        "```\n",
        "\n",
        "3. PyTorch pseudorandom number generator at a fixed value for all devices (both CPU and GPU):\n",
        "```\n",
        "import torch\n",
        "torch.manual_seed(seed_value)\n",
        "```\n",
        "\n",
        "4. PyTorch pseudorandom number generator at a fixed value for the GPU(s):\n",
        "```\n",
        "import torch\n",
        "torch.cuda.manual_seed(seed_value)  # Current GPU.\n",
        "torch.cuda.manual_seed_all(seed_value)  # All GPUs.\n",
        "```\n",
        "\n",
        "5. CuDNN algorithms (an extension of CUDA for deep learning) to be deterministic in PyTorch:\n",
        "```\n",
        "import torch\n",
        "torch.backends.cudnn.deterministic = True\n",
        "torch.backends.cudnn.benchmark = False\n",
        "```\n",
        "\n",
        "Note that deterministic algorithms can make computations dramatically slower. While manually fixing random seeds helps reproducibility, completely reproducible results are not guaranteed across PyTorch releases and different platforms, devices or drivers.\n",
        "\n",
        "Furthermore, more randomness comes in when doing hyperparameter tuning or using multiple GPU devices in parallel, but that's beyond the scope of this tutorial.\n",
        "\n",
        "Finally, a good practice, implemented in Scikit-Learn, is to create a local RandomState object instead of using the global RandomState object and to pass it to every module using randomness. However, the Pytorch API does not allow it, and for now, using global RNGs is recommended."
      ]
    },
    {
      "cell_type": "code",
      "metadata": {
        "id": "lxB2LMKP2zXL",
        "colab_type": "code",
        "colab": {}
      },
      "source": [
        ""
      ],
      "execution_count": 0,
      "outputs": []
    }
  ]
}